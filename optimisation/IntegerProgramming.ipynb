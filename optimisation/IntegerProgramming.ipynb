{
 "cells": [
  {
   "cell_type": "markdown",
   "metadata": {},
   "source": [
    "## CVXPY Basic Knapsack Problem (Binary Integer Programming)"
   ]
  },
  {
   "cell_type": "code",
   "execution_count": 1,
   "metadata": {},
   "outputs": [],
   "source": [
    "%load_ext autoreload\n",
    "%autoreload 2\n",
    "%matplotlib inline"
   ]
  },
  {
   "cell_type": "code",
   "execution_count": 1,
   "metadata": {},
   "outputs": [
    {
     "data": {
      "text/plain": [
       "309.0"
      ]
     },
     "execution_count": 1,
     "metadata": {},
     "output_type": "execute_result"
    }
   ],
   "source": [
    "import cvxpy\n",
    "import numpy as np\n",
    "\n",
    "# The data for the Knapsack problem\n",
    "# P is total weight capacity of sack\n",
    "# weights and utilities are also specified\n",
    "P = 165\n",
    "weights = np.array([23, 31, 29, 44, 53, 38, 63, 85, 89, 82])\n",
    "utilities = np.array([92, 57, 49, 68, 60, 43, 67, 84, 87, 72])\n",
    "\n",
    "# The variable we are solving for\n",
    "selection = cvxpy.Bool(len(weights))\n",
    "\n",
    "# The sum of the weights should be less than or equal to P\n",
    "weight_constraint = weights * selection <= P\n",
    "\n",
    "# Our total utility is the sum of the item utilities\n",
    "total_utility = utilities * selection\n",
    "\n",
    "# We tell cvxpy that we want to maximize total utility \n",
    "# subject to weight_constraint. All constraints in \n",
    "# cvxpy must be passed as a list\n",
    "knapsack_problem = cvxpy.Problem(cvxpy.Maximize(total_utility), [weight_constraint])\n",
    "\n",
    "# Solving the problem\n",
    "knapsack_problem.solve(solver=cvxpy.GLPK_MI)"
   ]
  },
  {
   "cell_type": "code",
   "execution_count": 2,
   "metadata": {},
   "outputs": [
    {
     "name": "stdout",
     "output_type": "stream",
     "text": [
      "[[1.]\n",
      " [1.]\n",
      " [1.]\n",
      " [1.]\n",
      " [0.]\n",
      " [1.]\n",
      " [0.]\n",
      " [0.]\n",
      " [0.]\n",
      " [0.]]\n"
     ]
    }
   ],
   "source": [
    "print(selection.value)"
   ]
  },
  {
   "cell_type": "markdown",
   "metadata": {},
   "source": [
    "## Track Feature Binary Integer Programming"
   ]
  },
  {
   "cell_type": "code",
   "execution_count": 2,
   "metadata": {},
   "outputs": [],
   "source": [
    "import sys\n",
    "import os\n",
    "import json\n",
    "import matplotlib.pyplot as plt\n",
    "from pprint import pprint\n",
    "import numpy as np\n",
    "from datetime import datetime\n",
    "import pandas as pd\n",
    "import seaborn as sns\n",
    "\n",
    "sys.path.append(os.path.abspath('../'))\n",
    "from data import Data"
   ]
  },
  {
   "cell_type": "code",
   "execution_count": 3,
   "metadata": {},
   "outputs": [],
   "source": [
    "d = Data()"
   ]
  },
  {
   "cell_type": "code",
   "execution_count": 4,
   "metadata": {},
   "outputs": [],
   "source": [
    "tracks = d.getTrackFeatures()"
   ]
  },
  {
   "cell_type": "code",
   "execution_count": 5,
   "metadata": {},
   "outputs": [
    {
     "data": {
      "text/plain": [
       "array([[0.458, 0.591, 5, ..., 184.913, 161187, 3],\n",
       "       [0.455, 0.623, 8, ..., 182.345, 220293, 4],\n",
       "       [0.742, 0.753, 1, ..., 132.064, 222727, 4],\n",
       "       ...,\n",
       "       [0.488, 0.275, 2, ..., 97.547, 242667, 3],\n",
       "       [0.624, 0.851, 9, ..., 128.03, 185578, 4],\n",
       "       [0.553, 0.891, 4, ..., 82.011, 252794, 4]], dtype=object)"
      ]
     },
     "execution_count": 5,
     "metadata": {},
     "output_type": "execute_result"
    }
   ],
   "source": [
    "tracks"
   ]
  },
  {
   "cell_type": "code",
   "execution_count": 7,
   "metadata": {},
   "outputs": [],
   "source": [
    "tracksFiltered = tracks[:, 0]"
   ]
  },
  {
   "cell_type": "code",
   "execution_count": 8,
   "metadata": {},
   "outputs": [
    {
     "data": {
      "text/plain": [
       "array([0.458, 0.455, 0.742, ..., 0.488, 0.624, 0.553], dtype=object)"
      ]
     },
     "execution_count": 8,
     "metadata": {},
     "output_type": "execute_result"
    }
   ],
   "source": [
    "tracksFiltered"
   ]
  },
  {
   "cell_type": "code",
   "execution_count": 9,
   "metadata": {},
   "outputs": [
    {
     "data": {
      "text/plain": [
       "0.0"
      ]
     },
     "execution_count": 9,
     "metadata": {},
     "output_type": "execute_result"
    }
   ],
   "source": [
    "import cvxpy\n",
    "import numpy as np\n",
    "from cvxpy import *\n",
    "\n",
    "trackLength = 10\n",
    "\n",
    "ideal = 0.4\n",
    "\n",
    "selection = cvxpy.Bool(len(tracks))\n",
    "\n",
    "length_max_constraint = sum_entries(selection) <= trackLength\n",
    "length_min_constraint = sum_entries(selection) >= 3\n",
    "\n",
    "total_utility = abs(sum_entries((tracksFiltered * selection)) - (ideal * sum_entries(selection)))\n",
    "\n",
    "knapsack_problem = cvxpy.Problem(cvxpy.Minimize(total_utility), [length_min_constraint, length_max_constraint])\n",
    "\n",
    "knapsack_problem.solve(solver=cvxpy.GLPK_MI)"
   ]
  },
  {
   "cell_type": "code",
   "execution_count": 10,
   "metadata": {},
   "outputs": [
    {
     "data": {
      "text/plain": [
       "3.0"
      ]
     },
     "execution_count": 10,
     "metadata": {},
     "output_type": "execute_result"
    }
   ],
   "source": [
    "np.sum(selection.value)"
   ]
  },
  {
   "cell_type": "code",
   "execution_count": 11,
   "metadata": {},
   "outputs": [],
   "source": [
    "itemindex = np.where(selection.value==[1])"
   ]
  },
  {
   "cell_type": "code",
   "execution_count": 12,
   "metadata": {},
   "outputs": [
    {
     "data": {
      "text/plain": [
       "(array([1418, 1972, 2082], dtype=int64), array([0, 0, 0], dtype=int64))"
      ]
     },
     "execution_count": 12,
     "metadata": {},
     "output_type": "execute_result"
    }
   ],
   "source": [
    "itemindex"
   ]
  },
  {
   "cell_type": "code",
   "execution_count": 13,
   "metadata": {},
   "outputs": [
    {
     "data": {
      "text/plain": [
       "array([[0.4, 0.496, 9, -7.793, 1, 0.0328, 0.202, 0, 0.528, 0.136,\n",
       "        142.017, 324027, 3],\n",
       "       [0.4, 0.671, 2, -4.193, 1, 0.0295, 0.0708, 0, 0.258, 0.254,\n",
       "        148.573, 379467, 4],\n",
       "       [0.4, 0.535, 0, -6.835, 1, 0.0351, 0.577, 0, 0.321, 0.086, 131.8,\n",
       "        248587, 4]], dtype=object)"
      ]
     },
     "execution_count": 13,
     "metadata": {},
     "output_type": "execute_result"
    }
   ],
   "source": [
    "tracks[[1418, 1972, 2082]]"
   ]
  },
  {
   "cell_type": "code",
   "execution_count": null,
   "metadata": {},
   "outputs": [],
   "source": []
  }
 ],
 "metadata": {
  "kernelspec": {
   "display_name": "Python 3",
   "language": "python",
   "name": "python3"
  },
  "language_info": {
   "codemirror_mode": {
    "name": "ipython",
    "version": 3
   },
   "file_extension": ".py",
   "mimetype": "text/x-python",
   "name": "python",
   "nbconvert_exporter": "python",
   "pygments_lexer": "ipython3",
   "version": "3.6.5"
  }
 },
 "nbformat": 4,
 "nbformat_minor": 2
}
