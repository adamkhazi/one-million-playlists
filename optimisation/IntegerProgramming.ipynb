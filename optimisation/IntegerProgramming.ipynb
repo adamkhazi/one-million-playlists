{
 "cells": [
  {
   "cell_type": "markdown",
   "metadata": {},
   "source": [
    "## CVXPY Basic Knapsack Problem (Binary Integer Programming)"
   ]
  },
  {
   "cell_type": "code",
   "execution_count": 1,
   "metadata": {},
   "outputs": [],
   "source": [
    "%load_ext autoreload\n",
    "%autoreload 2\n",
    "%matplotlib inline"
   ]
  },
  {
   "cell_type": "code",
   "execution_count": 1,
   "metadata": {},
   "outputs": [
    {
     "data": {
      "text/plain": [
       "309.0"
      ]
     },
     "execution_count": 1,
     "metadata": {},
     "output_type": "execute_result"
    }
   ],
   "source": [
    "import cvxpy\n",
    "import numpy as np\n",
    "\n",
    "# The data for the Knapsack problem\n",
    "# P is total weight capacity of sack\n",
    "# weights and utilities are also specified\n",
    "P = 165\n",
    "weights = np.array([23, 31, 29, 44, 53, 38, 63, 85, 89, 82])\n",
    "utilities = np.array([92, 57, 49, 68, 60, 43, 67, 84, 87, 72])\n",
    "\n",
    "# The variable we are solving for\n",
    "selection = cvxpy.Bool(len(weights))\n",
    "\n",
    "# The sum of the weights should be less than or equal to P\n",
    "weight_constraint = weights * selection <= P\n",
    "\n",
    "# Our total utility is the sum of the item utilities\n",
    "total_utility = utilities * selection\n",
    "\n",
    "# We tell cvxpy that we want to maximize total utility \n",
    "# subject to weight_constraint. All constraints in \n",
    "# cvxpy must be passed as a list\n",
    "knapsack_problem = cvxpy.Problem(cvxpy.Maximize(total_utility), [weight_constraint])\n",
    "\n",
    "# Solving the problem\n",
    "knapsack_problem.solve(solver=cvxpy.GLPK_MI)"
   ]
  },
  {
   "cell_type": "code",
   "execution_count": 2,
   "metadata": {},
   "outputs": [
    {
     "name": "stdout",
     "output_type": "stream",
     "text": [
      "[[1.]\n",
      " [1.]\n",
      " [1.]\n",
      " [1.]\n",
      " [0.]\n",
      " [1.]\n",
      " [0.]\n",
      " [0.]\n",
      " [0.]\n",
      " [0.]]\n"
     ]
    }
   ],
   "source": [
    "print(selection.value)"
   ]
  },
  {
   "cell_type": "markdown",
   "metadata": {},
   "source": [
    "## Track Feature Binary Integer Programming"
   ]
  },
  {
   "cell_type": "code",
   "execution_count": 2,
   "metadata": {},
   "outputs": [],
   "source": [
    "import sys\n",
    "import os\n",
    "import json\n",
    "import matplotlib.pyplot as plt\n",
    "from pprint import pprint\n",
    "import numpy as np\n",
    "from datetime import datetime\n",
    "import pandas as pd\n",
    "import seaborn as sns\n",
    "\n",
    "sys.path.append(os.path.abspath('../'))\n",
    "from data import Data"
   ]
  },
  {
   "cell_type": "code",
   "execution_count": 3,
   "metadata": {},
   "outputs": [],
   "source": [
    "d = Data()"
   ]
  },
  {
   "cell_type": "code",
   "execution_count": 4,
   "metadata": {},
   "outputs": [],
   "source": [
    "tracks = d.getTrackFeatures()"
   ]
  },
  {
   "cell_type": "code",
   "execution_count": 5,
   "metadata": {},
   "outputs": [
    {
     "data": {
      "text/plain": [
       "array([[0.458, 0.591, 5, ..., 184.913, 161187, 3],\n",
       "       [0.455, 0.623, 8, ..., 182.345, 220293, 4],\n",
       "       [0.742, 0.753, 1, ..., 132.064, 222727, 4],\n",
       "       ...,\n",
       "       [0.488, 0.275, 2, ..., 97.547, 242667, 3],\n",
       "       [0.624, 0.851, 9, ..., 128.03, 185578, 4],\n",
       "       [0.553, 0.891, 4, ..., 82.011, 252794, 4]], dtype=object)"
      ]
     },
     "execution_count": 5,
     "metadata": {},
     "output_type": "execute_result"
    }
   ],
   "source": [
    "tracks"
   ]
  },
  {
   "cell_type": "code",
   "execution_count": 53,
   "metadata": {},
   "outputs": [],
   "source": [
    "tracksFiltered = tracks[:5000, 0:2]"
   ]
  },
  {
   "cell_type": "code",
   "execution_count": 54,
   "metadata": {},
   "outputs": [
    {
     "data": {
      "text/plain": [
       "array([[0.458, 0.591],\n",
       "       [0.455, 0.623],\n",
       "       [0.742, 0.753],\n",
       "       ...,\n",
       "       [0.674, 0.519],\n",
       "       [0.728, 0.652],\n",
       "       [0.321, 0.871]], dtype=object)"
      ]
     },
     "execution_count": 54,
     "metadata": {},
     "output_type": "execute_result"
    }
   ],
   "source": [
    "tracksFiltered"
   ]
  },
  {
   "cell_type": "code",
   "execution_count": 55,
   "metadata": {},
   "outputs": [
    {
     "data": {
      "text/plain": [
       "(5000, 2)"
      ]
     },
     "execution_count": 55,
     "metadata": {},
     "output_type": "execute_result"
    }
   ],
   "source": [
    "tracksFiltered.shape"
   ]
  },
  {
   "cell_type": "code",
   "execution_count": 10,
   "metadata": {},
   "outputs": [
    {
     "data": {
      "text/plain": [
       "array([0.0, 0.455], dtype=object)"
      ]
     },
     "execution_count": 10,
     "metadata": {},
     "output_type": "execute_result"
    }
   ],
   "source": [
    "tracksFiltered[:2,0] * np.array([0,1])"
   ]
  },
  {
   "cell_type": "code",
   "execution_count": 76,
   "metadata": {},
   "outputs": [
    {
     "name": "stderr",
     "output_type": "stream",
     "text": [
      "C:\\ProgramData\\Anaconda3\\lib\\site-packages\\cvxpy\\problems\\problem.py:613: RuntimeWarning: overflow encountered in long_scalars\n",
      "  if self.max_big_small_squared < big*small**2:\n",
      "C:\\ProgramData\\Anaconda3\\lib\\site-packages\\cvxpy\\problems\\problem.py:614: RuntimeWarning: overflow encountered in long_scalars\n",
      "  self.max_big_small_squared = big*small**2\n"
     ]
    },
    {
     "data": {
      "text/plain": [
       "0.16314425000000005"
      ]
     },
     "execution_count": 76,
     "metadata": {},
     "output_type": "execute_result"
    }
   ],
   "source": [
    "import cvxpy as cp\n",
    "import numpy as np\n",
    "from cvxpy import *\n",
    "\n",
    "trackLength = 15\n",
    "\n",
    "# ideal constraints\n",
    "ideal = [0.7, 0.7]\n",
    "weights = [0.5, 0.5]\n",
    "\n",
    "selection = cp.Variable(len(tracksFiltered), boolean=True)\n",
    "\n",
    "length_max_constraint = cp.sum(selection) <= trackLength\n",
    "length_min_constraint = cp.sum(selection) >= trackLength\n",
    "\n",
    "cost = cp.transforms.scalarize.weighted_sum([cp.sum(abs((tracksFiltered[:,i] * selection.T) - ideal[i])) for i in range(tracksFiltered.shape[1])], weights)\n",
    "\n",
    "knapsack_problem = cvxpy.Problem(cvxpy.Minimize(cost), [length_min_constraint, length_max_constraint])\n",
    "\n",
    "knapsack_problem.solve(solver=cvxpy.GLPK_MI)"
   ]
  },
  {
   "cell_type": "code",
   "execution_count": 77,
   "metadata": {},
   "outputs": [
    {
     "data": {
      "text/plain": [
       "15.0"
      ]
     },
     "execution_count": 77,
     "metadata": {},
     "output_type": "execute_result"
    }
   ],
   "source": [
    "np.sum(selection.value)"
   ]
  },
  {
   "cell_type": "code",
   "execution_count": 78,
   "metadata": {},
   "outputs": [],
   "source": [
    "itemindex = np.where(selection.value==[1])"
   ]
  },
  {
   "cell_type": "code",
   "execution_count": 79,
   "metadata": {},
   "outputs": [
    {
     "data": {
      "text/plain": [
       "(array([ 202,  571,  866,  979, 1262, 1554, 1913, 1960, 2012, 2634, 3049,\n",
       "        3479, 3575, 3934, 4115], dtype=int64),)"
      ]
     },
     "execution_count": 79,
     "metadata": {},
     "output_type": "execute_result"
    }
   ],
   "source": [
    "itemindex"
   ]
  },
  {
   "cell_type": "code",
   "execution_count": 80,
   "metadata": {},
   "outputs": [
    {
     "data": {
      "text/plain": [
       "array([[0, 0.242],\n",
       "       [0.0817, 0.0887],\n",
       "       [0.082, 0.03],\n",
       "       [0.0984, 0.0151],\n",
       "       [0.0924, 0.0359],\n",
       "       [0.0676, 0.00876],\n",
       "       [0.0616, 0.0136],\n",
       "       [0.0761, 0.0189],\n",
       "       [0.0999, 0.0417],\n",
       "       [0.0622, 0.0079],\n",
       "       [0.112, 0.0335],\n",
       "       [0, 0.16],\n",
       "       [0.0687, 0.00789],\n",
       "       [0.1, 0.0197],\n",
       "       [0, 3.85e-05]], dtype=object)"
      ]
     },
     "execution_count": 80,
     "metadata": {},
     "output_type": "execute_result"
    }
   ],
   "source": [
    "tracksFiltered[itemindex]"
   ]
  },
  {
   "cell_type": "code",
   "execution_count": 24,
   "metadata": {},
   "outputs": [
    {
     "data": {
      "text/plain": [
       "array([[0.458, 0.591],\n",
       "       [0.455, 0.623],\n",
       "       [0.742, 0.753],\n",
       "       [0.733, 0.711],\n",
       "       [0.584, 0.947],\n",
       "       [0.507, 0.446],\n",
       "       [0.295, 0.498],\n",
       "       [0.695, 0.828],\n",
       "       [0.253, 0.197],\n",
       "       [0.648, 0.598]], dtype=object)"
      ]
     },
     "execution_count": 24,
     "metadata": {},
     "output_type": "execute_result"
    }
   ],
   "source": [
    "tracksFiltered[:10]"
   ]
  },
  {
   "cell_type": "code",
   "execution_count": null,
   "metadata": {},
   "outputs": [],
   "source": []
  }
 ],
 "metadata": {
  "kernelspec": {
   "display_name": "Python 3",
   "language": "python",
   "name": "python3"
  },
  "language_info": {
   "codemirror_mode": {
    "name": "ipython",
    "version": 3
   },
   "file_extension": ".py",
   "mimetype": "text/x-python",
   "name": "python",
   "nbconvert_exporter": "python",
   "pygments_lexer": "ipython3",
   "version": "3.6.6"
  }
 },
 "nbformat": 4,
 "nbformat_minor": 2
}
