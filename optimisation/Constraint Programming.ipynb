{
 "cells": [
  {
   "cell_type": "code",
   "execution_count": 8,
   "metadata": {},
   "outputs": [],
   "source": [
    "from constraint import *"
   ]
  },
  {
   "cell_type": "code",
   "execution_count": 10,
   "metadata": {},
   "outputs": [],
   "source": [
    "problem = Problem()\n",
    "problem.addVariables(range(0, 16), range(1, 16 + 1))\n",
    "problem.addConstraint(AllDifferentConstraint(), range(0, 16))\n",
    "problem.addConstraint(ExactSumConstraint(34), [0, 5, 10, 15])\n",
    "problem.addConstraint(ExactSumConstraint(34), [3, 6, 9, 12])\n",
    "for row in range(4):\n",
    "    problem.addConstraint(ExactSumConstraint(34),\n",
    "                              [row * 4 + i for i in range(4)])\n",
    "for col in range(4):\n",
    "    problem.addConstraint(ExactSumConstraint(34),\n",
    "                              [col + 4 * i for i in range(4)])\n",
    "solutions = problem.getSolutions()"
   ]
  },
  {
   "cell_type": "code",
   "execution_count": null,
   "metadata": {},
   "outputs": [],
   "source": []
  }
 ],
 "metadata": {
  "kernelspec": {
   "display_name": "Python 3",
   "language": "python",
   "name": "python3"
  },
  "language_info": {
   "codemirror_mode": {
    "name": "ipython",
    "version": 3
   },
   "file_extension": ".py",
   "mimetype": "text/x-python",
   "name": "python",
   "nbconvert_exporter": "python",
   "pygments_lexer": "ipython3",
   "version": "3.6.5"
  }
 },
 "nbformat": 4,
 "nbformat_minor": 2
}
