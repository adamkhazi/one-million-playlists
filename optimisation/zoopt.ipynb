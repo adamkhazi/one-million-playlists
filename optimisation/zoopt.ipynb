{
 "cells": [
  {
   "cell_type": "code",
   "execution_count": 1,
   "metadata": {},
   "outputs": [],
   "source": [
    "import zoopt"
   ]
  },
  {
   "cell_type": "code",
   "execution_count": 3,
   "metadata": {},
   "outputs": [],
   "source": [
    "from zoopt import Objective, Parameter, ExpOpt\n",
    "from math import exp"
   ]
  },
  {
   "cell_type": "code",
   "execution_count": 4,
   "metadata": {},
   "outputs": [
    {
     "name": "stdout",
     "output_type": "stream",
     "text": [
      "[zoopt] expected remaining running time: 00:00:12\n",
      "[zoopt] solved solution is:\n",
      "[zoopt] x: array([0., 0., 0., 1., 0., 0., 0., 0., 0., 0., 1., 0., 0., 0., 0., 1., 0.,\n",
      "       0., 0., 0., 1., 0., 0., 0., 0., 0., 0., 0., 0., 0., 0., 0., 0., 0.,\n",
      "       0., 1., 0., 0., 0., 0., 0., 0., 0., 1., 0., 0., 0., 0., 1., 0., 0.,\n",
      "       1., 0., 0., 0., 0., 0., 0., 0., 0.])\n",
      "[zoopt] value: [0.5632809741874065, 0.0]\n"
     ]
    },
    {
     "data": {
      "image/png": "[encoded data removed]",
      "text/plain": [
       "<Figure size 432x288 with 1 Axes>"
      ]
     },
     "metadata": {},
     "output_type": "display_data"
    },
    {
     "name": "stdout",
     "output_type": "stream",
     "text": [
      "[zoopt] Best 1 result: [0.56328097 0.        ] +- [0. 0.]\n"
     ]
    }
   ],
   "source": [
    "# load data file\n",
    "mse = SparseMSE('sonar.arff')\n",
    "mse.set_sparsity(8)\n",
    "\n",
    "# setup objective\n",
    "# print(mse.get_dim().get_size())\n",
    "objective = Objective(func=mse.loss, dim=mse.get_dim(), constraint=mse.constraint)\n",
    "parameter = Parameter(algorithm='poss', budget=2 * exp(1) * (mse.get_sparsity() ** 2) * mse.get_dim().get_size())\n",
    "\n",
    "# perform sparse regression with constraint |w|_0 <= k\n",
    "solution_list = ExpOpt.min(objective, parameter, repeat=1, plot=True)"
   ]
  },
  {
   "cell_type": "code",
   "execution_count": 3,
   "metadata": {},
   "outputs": [],
   "source": [
    "import numpy as np\n",
    "def ackley(solution):\n",
    "    x = solution.get_x()\n",
    "    bias = 0.2\n",
    "    value = -20 * np.exp(-0.2 * np.sqrt(sum([(i - bias) * (i - bias) for i in x]) / len(x))) - \\\n",
    "            np.exp(sum([np.cos(2.0*np.pi*(i-bias)) for i in x]) / len(x)) + 20.0 + np.e\n",
    "    return value"
   ]
  },
  {
   "cell_type": "code",
   "execution_count": 4,
   "metadata": {},
   "outputs": [
    {
     "name": "stdout",
     "output_type": "stream",
     "text": [
      "[zoopt] x: [0.1991791146002233, 0.1771423184651857, 0.1845226004304581, 0.20608987881206509, 0.2322646358817182, 0.20082374625653054, 0.18121641461080218, 0.19410861050123107, 0.20475331818006204, 0.19433411212872387, 0.2161958159227606, 0.18862904654213497, 0.2225443253538939, 0.2069978859200392, 0.19522295983018356, 0.20690825391157097, 0.20840011195111274, 0.19236362894034753, 0.19293526971170083, 0.17305268136176322, 0.21213635865824187, 0.20994491172283425, 0.18494225855618152, 0.16853520598634608, 0.2077491691817115, 0.203434943114996, 0.21648678115736675, 0.1929858753325444, 0.19093971081253236, 0.2039858547164919, 0.2067122101618306, 0.18002901940116356, 0.18532460142064466, 0.20761297352613028, 0.19073730564385372, 0.17315898165526722, 0.18895662670236213, 0.21937422245909755, 0.22081704043554162, 0.18135881818875865, 0.20479159894720556, 0.19955127248594007, 0.2043380944059705, 0.22754845399484114, 0.19626557354938323, 0.17906316559311364, 0.20326843604041533, 0.19133612116470733, 0.22746876234810598, 0.20634524625577355, 0.19938908260263188, 0.18568427012682598, 0.1824753148004803, 0.1803264809274141, 0.22468875668570387, 0.20865021163339836, 0.20554631681003022, 0.15951500642323158, 0.18110149303920076, 0.20007404843435506, 0.16408994662698295, 0.18608451252821467, 0.15861836308918598, 0.20305547811137248, 0.22496192483124755, 0.19940803058855572, 0.19104990912349584, 0.21141283289372104, 0.18198529230045235, 0.21368751082741233, 0.17451774027748979, 0.19739572289472918, 0.18548365147436696, 0.1716196362057305, 0.2174721617522981, 0.1890988318143152, 0.22125474130096623, 0.19845445314576815, 0.22806936298289493, 0.22974301292602828, 0.19256377815630943, 0.20426582824169137, 0.20726749989314963, 0.21199611943634356, 0.19019037212115153, 0.1876294961656133, 0.20984953772097192, 0.22407479093979377, 0.16478575680677054, 0.2034656396889507, 0.19997510705640664, 0.19912329049740207, 0.2108091040452924, 0.18348968565170143, 0.22215685807377694, 0.21124226016184178, 0.20361375418246586, 0.16738114340785848, 0.18387660325069466, 0.2116455166052773]\n",
      "[zoopt] value: 0.08247165724689909\n"
     ]
    }
   ],
   "source": [
    "from zoopt import Dimension, Objective, Parameter, Opt\n",
    "\n",
    "dim = 100  # dimension\n",
    "obj = Objective(ackley, Dimension(dim, [[-1, 1]] * dim, [False] * dim))\n",
    "# perform optimization\n",
    "solution = Opt.min(obj, Parameter(budget=100 * dim))\n",
    "# print result\n",
    "solution.print_solution()"
   ]
  },
  {
   "cell_type": "markdown",
   "metadata": {},
   "source": [
    "## Get Data"
   ]
  },
  {
   "cell_type": "code",
   "execution_count": 3,
   "metadata": {},
   "outputs": [],
   "source": [
    "import sys\n",
    "import os\n",
    "import json\n",
    "import matplotlib.pyplot as plt\n",
    "from pprint import pprint\n",
    "import numpy as np\n",
    "from datetime import datetime\n",
    "import pandas as pd\n",
    "import seaborn as sns\n",
    "\n",
    "sys.path.append(os.path.abspath('../'))\n",
    "from data import Data\n",
    "\n",
    "d = Data()\n",
    "tracks = d.getTrackFeatures()"
   ]
  },
  {
   "cell_type": "code",
   "execution_count": 8,
   "metadata": {},
   "outputs": [],
   "source": [
    "tracks = tracks[:, :4]"
   ]
  },
  {
   "cell_type": "code",
   "execution_count": 9,
   "metadata": {},
   "outputs": [],
   "source": [
    "from sklearn.preprocessing import maxabs_scale\n",
    "scaledTracks = maxabs_scale(tracks)"
   ]
  },
  {
   "cell_type": "code",
   "execution_count": 10,
   "metadata": {},
   "outputs": [
    {
     "data": {
      "text/plain": [
       "array([[ 0.45983936,  0.591     ,  0.45454545, -0.09368333],\n",
       "       [ 0.45682731,  0.623     ,  0.72727273, -0.19286667],\n",
       "       [ 0.74497992,  0.753     ,  0.09090909, -0.09386667],\n",
       "       ...,\n",
       "       [ 0.48995984,  0.275     ,  0.18181818, -0.19511667],\n",
       "       [ 0.62650602,  0.851     ,  0.81818182, -0.0709    ],\n",
       "       [ 0.55522088,  0.891     ,  0.36363636, -0.03643333]])"
      ]
     },
     "execution_count": 10,
     "metadata": {},
     "output_type": "execute_result"
    }
   ],
   "source": [
    "scaledTracks"
   ]
  },
  {
   "cell_type": "code",
   "execution_count": 19,
   "metadata": {},
   "outputs": [],
   "source": [
    "scaledTracks = scaledTracks[:100]"
   ]
  },
  {
   "cell_type": "markdown",
   "metadata": {},
   "source": [
    "### Real Use Case"
   ]
  },
  {
   "cell_type": "code",
   "execution_count": 21,
   "metadata": {},
   "outputs": [],
   "source": [
    "from random import uniform\n",
    "from zoopt.dimension import Dimension\n",
    "from zoopt import Objective, Parameter, ExpOpt\n",
    "\n",
    "import pdb\n",
    "\n",
    "class SubsetSelection:\n",
    "    def __init__(self):\n",
    "        self.nr_samples = 100\n",
    "        self.nr_dims = 4\n",
    "        self.ideal = [0.4, 0.5, 0.4, -0.09]\n",
    "        self.data = scaledTracks\n",
    "        #self.data = [[uniform(0.1, 0.4) for _ in range(nr_dims)] for _j in range(nr_samples)]\n",
    "        self.subsetSize = 10\n",
    "        \n",
    "    @property\n",
    "    def dim(self):\n",
    "        dim_size = self.nr_samples\n",
    "        dim_regs = [[0, 1]] * self.nr_samples\n",
    "        dim_tys = [False] * self.nr_samples\n",
    "        return Dimension(dim_size, dim_regs, dim_tys)\n",
    "    \n",
    "    def evaluate(self, solution):\n",
    "        x = solution.get_x()\n",
    "        res = 0\n",
    "        for i_chosen, chosen in enumerate(x):\n",
    "            if chosen:\n",
    "                for dIdx, dValue in enumerate(self.data[i_chosen]):\n",
    "                    res += abs(self.ideal[dIdx] - dValue)\n",
    "        return res\n",
    "    \n",
    "    def constraint(self, solution):\n",
    "        x = solution.get_x()\n",
    "        return sum(x) - self.subsetSize"
   ]
  },
  {
   "cell_type": "code",
   "execution_count": null,
   "metadata": {},
   "outputs": [
    {
     "name": "stdout",
     "output_type": "stream",
     "text": [
      "[zoopt] expected remaining running time: 00:00:09"
     ]
    }
   ],
   "source": [
    "def minimize_discrete():\n",
    "    ss = SubsetSelection()\n",
    "    \n",
    "    objective = Objective(ss.evaluate, ss.dim, constraint=ss.constraint)  # form up the objective function\n",
    "\n",
    "    budget = 1000 * ss.nr_samples  # number of calls to the objective function\n",
    "    # if autoset is False, you should define train_size, positive_size, negative_size on your own\n",
    "    parameter = Parameter(algorithm='poss', budget=budget, autoset=True)\n",
    "    #parameter.set_train_size(6)\n",
    "    #parameter.set_positive_size(1)\n",
    "    #parameter.set_negative_size(5)\n",
    "\n",
    "    return ExpOpt.min(objective, parameter, repeat=1, plot=True)\n",
    "    \n",
    "res = minimize_discrete()"
   ]
  },
  {
   "cell_type": "code",
   "execution_count": 48,
   "metadata": {},
   "outputs": [
    {
     "data": {
      "text/plain": [
       "[<zoopt.solution.Solution at 0x1204e6e80>]"
      ]
     },
     "execution_count": 48,
     "metadata": {},
     "output_type": "execute_result"
    }
   ],
   "source": [
    "res"
   ]
  },
  {
   "cell_type": "code",
   "execution_count": null,
   "metadata": {},
   "outputs": [],
   "source": []
  }
 ],
 "metadata": {
  "kernelspec": {
   "display_name": "Python 3",
   "language": "python",
   "name": "python3"
  },
  "language_info": {
   "codemirror_mode": {
    "name": "ipython",
    "version": 3
   },
   "file_extension": ".py",
   "mimetype": "text/x-python",
   "name": "python",
   "nbconvert_exporter": "python",
   "pygments_lexer": "ipython3",
   "version": "3.6.5"
  }
 },
 "nbformat": 4,
 "nbformat_minor": 2
}
