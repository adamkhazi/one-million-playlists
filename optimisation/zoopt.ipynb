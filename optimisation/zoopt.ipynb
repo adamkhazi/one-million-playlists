{
 "cells": [
  {
   "cell_type": "code",
   "execution_count": 1,
   "metadata": {},
   "outputs": [],
   "source": [
    "import zoopt"
   ]
  },
  {
   "cell_type": "code",
   "execution_count": 3,
   "metadata": {},
   "outputs": [],
   "source": [
    "from zoopt import Objective, Parameter, ExpOpt\n",
    "from math import exp"
   ]
  },
  {
   "cell_type": "code",
   "execution_count": 4,
   "metadata": {},
   "outputs": [
    {
     "name": "stdout",
     "output_type": "stream",
     "text": [
      "[zoopt] expected remaining running time: 00:00:12\n",
      "[zoopt] solved solution is:\n",
      "[zoopt] x: array([0., 0., 0., 1., 0., 0., 0., 0., 0., 0., 1., 0., 0., 0., 0., 1., 0.,\n",
      "       0., 0., 0., 1., 0., 0., 0., 0., 0., 0., 0., 0., 0., 0., 0., 0., 0.,\n",
      "       0., 1., 0., 0., 0., 0., 0., 0., 0., 1., 0., 0., 0., 0., 1., 0., 0.,\n",
      "       1., 0., 0., 0., 0., 0., 0., 0., 0.])\n",
      "[zoopt] value: [0.5632809741874065, 0.0]\n"
     ]
    },
    {
     "data": {
      "image/png": "[encoded data removed]",
      "text/plain": [
       "<Figure size 432x288 with 1 Axes>"
      ]
     },
     "metadata": {},
     "output_type": "display_data"
    },
    {
     "name": "stdout",
     "output_type": "stream",
     "text": [
      "[zoopt] Best 1 result: [0.56328097 0.        ] +- [0. 0.]\n"
     ]
    }
   ],
   "source": [
    "# load data file\n",
    "mse = SparseMSE('sonar.arff')\n",
    "mse.set_sparsity(8)\n",
    "\n",
    "# setup objective\n",
    "# print(mse.get_dim().get_size())\n",
    "objective = Objective(func=mse.loss, dim=mse.get_dim(), constraint=mse.constraint)\n",
    "parameter = Parameter(algorithm='poss', budget=2 * exp(1) * (mse.get_sparsity() ** 2) * mse.get_dim().get_size())\n",
    "\n",
    "# perform sparse regression with constraint |w|_0 <= k\n",
    "solution_list = ExpOpt.min(objective, parameter, repeat=1, plot=True)"
   ]
  },
  {
   "cell_type": "code",
   "execution_count": 3,
   "metadata": {},
   "outputs": [],
   "source": [
    "import numpy as np\n",
    "def ackley(solution):\n",
    "    x = solution.get_x()\n",
    "    bias = 0.2\n",
    "    value = -20 * np.exp(-0.2 * np.sqrt(sum([(i - bias) * (i - bias) for i in x]) / len(x))) - \\\n",
    "            np.exp(sum([np.cos(2.0*np.pi*(i-bias)) for i in x]) / len(x)) + 20.0 + np.e\n",
    "    return value"
   ]
  },
  {
   "cell_type": "code",
   "execution_count": 4,
   "metadata": {},
   "outputs": [
    {
     "name": "stdout",
     "output_type": "stream",
     "text": [
      "[zoopt] x: [0.1991791146002233, 0.1771423184651857, 0.1845226004304581, 0.20608987881206509, 0.2322646358817182, 0.20082374625653054, 0.18121641461080218, 0.19410861050123107, 0.20475331818006204, 0.19433411212872387, 0.2161958159227606, 0.18862904654213497, 0.2225443253538939, 0.2069978859200392, 0.19522295983018356, 0.20690825391157097, 0.20840011195111274, 0.19236362894034753, 0.19293526971170083, 0.17305268136176322, 0.21213635865824187, 0.20994491172283425, 0.18494225855618152, 0.16853520598634608, 0.2077491691817115, 0.203434943114996, 0.21648678115736675, 0.1929858753325444, 0.19093971081253236, 0.2039858547164919, 0.2067122101618306, 0.18002901940116356, 0.18532460142064466, 0.20761297352613028, 0.19073730564385372, 0.17315898165526722, 0.18895662670236213, 0.21937422245909755, 0.22081704043554162, 0.18135881818875865, 0.20479159894720556, 0.19955127248594007, 0.2043380944059705, 0.22754845399484114, 0.19626557354938323, 0.17906316559311364, 0.20326843604041533, 0.19133612116470733, 0.22746876234810598, 0.20634524625577355, 0.19938908260263188, 0.18568427012682598, 0.1824753148004803, 0.1803264809274141, 0.22468875668570387, 0.20865021163339836, 0.20554631681003022, 0.15951500642323158, 0.18110149303920076, 0.20007404843435506, 0.16408994662698295, 0.18608451252821467, 0.15861836308918598, 0.20305547811137248, 0.22496192483124755, 0.19940803058855572, 0.19104990912349584, 0.21141283289372104, 0.18198529230045235, 0.21368751082741233, 0.17451774027748979, 0.19739572289472918, 0.18548365147436696, 0.1716196362057305, 0.2174721617522981, 0.1890988318143152, 0.22125474130096623, 0.19845445314576815, 0.22806936298289493, 0.22974301292602828, 0.19256377815630943, 0.20426582824169137, 0.20726749989314963, 0.21199611943634356, 0.19019037212115153, 0.1876294961656133, 0.20984953772097192, 0.22407479093979377, 0.16478575680677054, 0.2034656396889507, 0.19997510705640664, 0.19912329049740207, 0.2108091040452924, 0.18348968565170143, 0.22215685807377694, 0.21124226016184178, 0.20361375418246586, 0.16738114340785848, 0.18387660325069466, 0.2116455166052773]\n",
      "[zoopt] value: 0.08247165724689909\n"
     ]
    }
   ],
   "source": [
    "from zoopt import Dimension, Objective, Parameter, Opt\n",
    "\n",
    "dim = 100  # dimension\n",
    "obj = Objective(ackley, Dimension(dim, [[-1, 1]] * dim, [False] * dim))\n",
    "# perform optimization\n",
    "solution = Opt.min(obj, Parameter(budget=100 * dim))\n",
    "# print result\n",
    "solution.print_solution()"
   ]
  },
  {
   "cell_type": "markdown",
   "metadata": {},
   "source": [
    "## Get Data"
   ]
  },
  {
   "cell_type": "code",
   "execution_count": 3,
   "metadata": {},
   "outputs": [],
   "source": [
    "import sys\n",
    "import os\n",
    "import json\n",
    "import matplotlib.pyplot as plt\n",
    "from pprint import pprint\n",
    "import numpy as np\n",
    "from datetime import datetime\n",
    "import pandas as pd\n",
    "import seaborn as sns\n",
    "\n",
    "sys.path.append(os.path.abspath('../'))\n",
    "from data import Data\n",
    "\n",
    "d = Data()\n",
    "tracks = d.getTrackFeatures()"
   ]
  },
  {
   "cell_type": "code",
   "execution_count": 8,
   "metadata": {},
   "outputs": [],
   "source": [
    "tracks = tracks[:, :4]"
   ]
  },
  {
   "cell_type": "code",
   "execution_count": 9,
   "metadata": {},
   "outputs": [],
   "source": [
    "from sklearn.preprocessing import maxabs_scale\n",
    "scaledTracks = maxabs_scale(tracks)"
   ]
  },
  {
   "cell_type": "code",
   "execution_count": 10,
   "metadata": {},
   "outputs": [
    {
     "data": {
      "text/plain": [
       "array([[ 0.45983936,  0.591     ,  0.45454545, -0.09368333],\n",
       "       [ 0.45682731,  0.623     ,  0.72727273, -0.19286667],\n",
       "       [ 0.74497992,  0.753     ,  0.09090909, -0.09386667],\n",
       "       ...,\n",
       "       [ 0.48995984,  0.275     ,  0.18181818, -0.19511667],\n",
       "       [ 0.62650602,  0.851     ,  0.81818182, -0.0709    ],\n",
       "       [ 0.55522088,  0.891     ,  0.36363636, -0.03643333]])"
      ]
     },
     "execution_count": 10,
     "metadata": {},
     "output_type": "execute_result"
    }
   ],
   "source": [
    "scaledTracks"
   ]
  },
  {
   "cell_type": "code",
   "execution_count": 19,
   "metadata": {},
   "outputs": [],
   "source": [
    "scaledTracks = scaledTracks[:100]"
   ]
  },
  {
   "cell_type": "markdown",
   "metadata": {},
   "source": [
    "### Real Use Case"
   ]
  },
  {
   "cell_type": "code",
   "execution_count": 21,
   "metadata": {},
   "outputs": [],
   "source": [
    "from random import uniform\n",
    "from zoopt.dimension import Dimension\n",
    "from zoopt import Objective, Parameter, ExpOpt\n",
    "\n",
    "import pdb\n",
    "\n",
    "class SubsetSelection:\n",
    "    def __init__(self):\n",
    "        self.nr_samples = 100\n",
    "        self.nr_dims = 4\n",
    "        self.ideal = [0.4, 0.5, 0.4, -0.09]\n",
    "        self.data = scaledTracks\n",
    "        #self.data = [[uniform(0.1, 0.4) for _ in range(nr_dims)] for _j in range(nr_samples)]\n",
    "        self.subsetSize = 10\n",
    "        \n",
    "    @property\n",
    "    def dim(self):\n",
    "        dim_size = self.nr_samples\n",
    "        dim_regs = [[0, 1]] * self.nr_samples\n",
    "        dim_tys = [False] * self.nr_samples\n",
    "        return Dimension(dim_size, dim_regs, dim_tys)\n",
    "    \n",
    "    def evaluate(self, solution):\n",
    "        x = solution.get_x()\n",
    "        res = 0\n",
    "        for i_chosen, chosen in enumerate(x):\n",
    "            if chosen:\n",
    "                for dIdx, dValue in enumerate(self.data[i_chosen]):\n",
    "                    res += abs(self.ideal[dIdx] - dValue)\n",
    "        return res\n",
    "    \n",
    "    def constraint(self, solution):\n",
    "        x = solution.get_x()\n",
    "        return sum(x) - self.subsetSize"
   ]
  },
  {
   "cell_type": "code",
   "execution_count": 22,
   "metadata": {},
   "outputs": [
    {
     "name": "stdout",
     "output_type": "stream",
     "text": [
      "[zoopt] expected remaining running time: 00:00:09\n",
      "[zoopt] solved solution is:\n",
      "[zoopt] x: array([1., 0., 0., 0., 0., 0., 1., 0., 0., 0., 0., 0., 0., 1., 0., 0., 0.,\n",
      "       0., 0., 0., 0., 0., 0., 0., 0., 0., 0., 0., 0., 0., 0., 0., 0., 0.,\n",
      "       1., 0., 1., 1., 0., 0., 0., 0., 0., 0., 0., 1., 0., 0., 0., 0., 0.,\n",
      "       0., 0., 0., 0., 0., 0., 0., 0., 0., 0., 0., 0., 0., 0., 0., 0., 0.,\n",
      "       0., 0., 0., 0., 0., 1., 0., 0., 1., 0., 0., 0., 0., 0., 0., 0., 1.,\n",
      "       0., 0., 0., 0., 0., 0., 0., 0., 0., 0., 0., 0., 0., 0., 0.])\n",
      "[zoopt] value: [3.7034666849215037, 0.0]\n"
     ]
    },
    {
     "data": {
      "image/png": "[encoded data removed]",
      "text/plain": [
       "<Figure size 432x288 with 1 Axes>"
      ]
     },
     "metadata": {},
     "output_type": "display_data"
    },
    {
     "name": "stdout",
     "output_type": "stream",
     "text": [
      "[zoopt] Best 1 result: [3.70346668 0.        ] +- [0. 0.]\n"
     ]
    }
   ],
   "source": [
    "def minimize_discrete():\n",
    "    ss = SubsetSelection()\n",
    "    \n",
    "    objective = Objective(ss.evaluate, ss.dim, constraint=ss.constraint)  # form up the objective function\n",
    "\n",
    "    budget = 1000 * ss.nr_samples  # number of calls to the objective function\n",
    "    # if autoset is False, you should define train_size, positive_size, negative_size on your own\n",
    "    parameter = Parameter(algorithm='poss', budget=budget, autoset=True)\n",
    "    #parameter.set_train_size(6)\n",
    "    #parameter.set_positive_size(1)\n",
    "    #parameter.set_negative_size(5)\n",
    "\n",
    "    return ExpOpt.min(objective, parameter, repeat=1, plot=True)\n",
    "    \n",
    "res = minimize_discrete()"
   ]
  },
  {
   "cell_type": "code",
   "execution_count": 37,
   "metadata": {},
   "outputs": [
    {
     "name": "stdout",
     "output_type": "stream",
     "text": [
      "<zoopt.solution.Solution object at 0x0000015C739F38D0>\n"
     ]
    }
   ],
   "source": [
    "for a in res:\n",
    "    print(a)"
   ]
  },
  {
   "cell_type": "code",
   "execution_count": 40,
   "metadata": {},
   "outputs": [],
   "source": [
    "res = np.array([1., 0., 0., 0., 0., 0., 1., 0., 0., 0., 0., 0., 0., 1., 0., 0., 0.,\n",
    "       0., 0., 0., 0., 0., 0., 0., 0., 0., 0., 0., 0., 0., 0., 0., 0., 0.,\n",
    "       1., 0., 1., 1., 0., 0., 0., 0., 0., 0., 0., 1., 0., 0., 0., 0., 0.,\n",
    "       0., 0., 0., 0., 0., 0., 0., 0., 0., 0., 0., 0., 0., 0., 0., 0., 0.,\n",
    "       0., 0., 0., 0., 0., 1., 0., 0., 1., 0., 0., 0., 0., 0., 0., 0., 1.,\n",
    "       0., 0., 0., 0., 0., 0., 0., 0., 0., 0., 0., 0., 0., 0., 0.])"
   ]
  },
  {
   "cell_type": "code",
   "execution_count": 45,
   "metadata": {},
   "outputs": [
    {
     "data": {
      "text/plain": [
       "array([[ 0.45983936,  0.591     ,  0.45454545, -0.09368333],\n",
       "       [ 0.45682731,  0.623     ,  0.72727273, -0.19286667],\n",
       "       [ 0.74497992,  0.753     ,  0.09090909, -0.09386667],\n",
       "       [ 0.73594378,  0.711     ,  0.09090909, -0.09013333],\n",
       "       [ 0.58634538,  0.947     ,  0.36363636, -0.06166667],\n",
       "       [ 0.50903614,  0.446     ,  0.09090909, -0.10235   ],\n",
       "       [ 0.29618474,  0.498     ,  0.18181818, -0.15316667],\n",
       "       [ 0.69779116,  0.828     ,  0.09090909, -0.11363333],\n",
       "       [ 0.25401606,  0.197     ,  0.54545455, -0.29491667],\n",
       "       [ 0.65060241,  0.598     ,  0.63636364, -0.19741667],\n",
       "       [ 0.88052209,  0.724     ,  0.63636364, -0.12296667],\n",
       "       [ 0.75401606,  0.44      ,  0.18181818, -0.10811667],\n",
       "       [ 0.62650602,  0.766     ,  0.18181818, -0.131     ],\n",
       "       [ 0.63353414,  0.513     ,  0.18181818, -0.10626667],\n",
       "       [ 0.70080321,  0.834     ,  0.45454545, -0.11586667],\n",
       "       [ 0.53313253,  0.679     ,  0.18181818, -0.15293333],\n",
       "       [ 0.17971888,  0.264     ,  0.45454545, -0.22183333],\n",
       "       [ 0.91666667,  0.748     ,  0.81818182, -0.05456667],\n",
       "       [ 0.39859438,  0.971     ,  0.09090909, -0.06006667],\n",
       "       [ 0.7751004 ,  0.552     ,  1.        , -0.16616667],\n",
       "       [ 0.79819277,  0.874     ,  0.        , -0.07538333],\n",
       "       [ 0.5251004 ,  0.176     ,  0.90909091, -0.2297    ],\n",
       "       [ 0.49799197,  0.0481    ,  0.63636364, -0.44446667],\n",
       "       [ 0.47891566,  0.464     ,  0.        , -0.09708333],\n",
       "       [ 0.62148594,  0.561     ,  0.63636364, -0.13961667],\n",
       "       [ 0.69779116,  0.901     ,  0.45454545, -0.02458333],\n",
       "       [ 0.4186747 ,  0.166     ,  0.        , -0.29486667],\n",
       "       [ 0.67570281,  0.885     ,  0.09090909, -0.09898333],\n",
       "       [ 0.65562249,  0.739     ,  0.54545455, -0.09008333],\n",
       "       [ 0.44176707,  0.946     ,  0.        , -0.06683333],\n",
       "       [ 0.70080321,  0.718     ,  0.81818182, -0.09911667],\n",
       "       [ 0.5873494 ,  0.557     ,  0.72727273, -0.16711667],\n",
       "       [ 0.44578313,  0.991     ,  0.63636364, -0.06945   ],\n",
       "       [ 0.55923695,  0.731     ,  0.63636364, -0.09261667],\n",
       "       [ 0.48192771,  0.484     ,  0.63636364, -0.14378333],\n",
       "       [ 0.57429719,  0.758     ,  0.09090909, -0.12651667],\n",
       "       [ 0.64859438,  0.494     ,  0.45454545, -0.20123333],\n",
       "       [ 0.52409639,  0.642     ,  0.36363636, -0.07415   ],\n",
       "       [ 0.48694779,  0.929     ,  0.81818182, -0.0966    ],\n",
       "       [ 0.47590361,  0.966     ,  0.72727273, -0.04928333],\n",
       "       [ 0.57831325,  0.265     ,  0.18181818, -0.28665   ],\n",
       "       [ 0.57329317,  0.942     ,  0.54545455, -0.01705   ],\n",
       "       [ 0.59638554,  0.963     ,  0.        , -0.0966    ],\n",
       "       [ 0.73895582,  0.694     ,  0.45454545, -0.10808333],\n",
       "       [ 0.96686747,  0.378     ,  0.09090909, -0.147     ],\n",
       "       [ 0.48092369,  0.684     ,  0.54545455, -0.09855   ],\n",
       "       [ 0.49799197,  0.413     ,  0.        , -0.19321667],\n",
       "       [ 0.30120482,  0.63      ,  0.90909091, -0.1401    ],\n",
       "       [ 0.51506024,  0.0846    ,  0.81818182, -0.28725   ],\n",
       "       [ 0.48995984,  0.947     ,  0.63636364, -0.10673333],\n",
       "       [ 0.46787149,  0.167     ,  0.        , -0.22186667],\n",
       "       [ 0.87449799,  0.321     ,  0.        , -0.32965   ],\n",
       "       [ 0.71787149,  0.633     ,  0.09090909, -0.17948333],\n",
       "       [ 0.50903614,  0.356     ,  0.        , -0.23733333],\n",
       "       [ 0.67771084,  0.539     ,  0.63636364, -0.1858    ],\n",
       "       [ 0.18273092,  0.0513    ,  0.72727273, -0.45065   ],\n",
       "       [ 0.75100402,  0.627     ,  0.63636364, -0.10048333],\n",
       "       [ 0.51104418,  0.803     ,  0.        , -0.11238333],\n",
       "       [ 0.79417671,  0.35      ,  0.72727273, -0.17698333],\n",
       "       [ 0.28915663,  0.871     ,  0.81818182, -0.04148333],\n",
       "       [ 0.21586345,  0.117     ,  0.63636364, -0.33351667],\n",
       "       [ 0.5311245 ,  0.793     ,  0.27272727, -0.07961667],\n",
       "       [ 0.20381526,  0.794     ,  0.36363636, -0.09075   ],\n",
       "       [ 0.61546185,  0.487     ,  0.        , -0.15336667],\n",
       "       [ 0.53614458,  0.905     ,  0.63636364, -0.05016667],\n",
       "       [ 0.85341365,  0.549     ,  0.63636364, -0.06375   ],\n",
       "       [ 0.6997992 ,  0.96      ,  0.72727273, -0.06458333],\n",
       "       [ 0.56927711,  0.931     ,  0.63636364, -0.07801667],\n",
       "       [ 0.79317269,  0.678     ,  0.81818182, -0.10055   ],\n",
       "       [ 0.24096386,  0.935     ,  0.45454545, -0.1329    ],\n",
       "       [ 0.62449799,  0.696     ,  0.81818182, -0.10446667],\n",
       "       [ 0.70281124,  0.763     ,  0.09090909, -0.09295   ],\n",
       "       [ 0.53815261,  0.78      ,  0.45454545, -0.15748333],\n",
       "       [ 0.40662651,  0.501     ,  0.27272727, -0.17578333],\n",
       "       [ 0.80722892,  0.796     ,  0.81818182, -0.1436    ],\n",
       "       [ 0.51305221,  0.793     ,  0.45454545, -0.1766    ],\n",
       "       [ 0.42369478,  0.276     ,  0.36363636, -0.20416667],\n",
       "       [ 0.77811245,  0.355     ,  0.54545455, -0.19591667],\n",
       "       [ 0.29718876,  0.0958    ,  0.18181818, -0.2845    ],\n",
       "       [ 0.68473896,  0.688     ,  0.09090909, -0.11535   ],\n",
       "       [ 0.69076305,  0.868     ,  0.36363636, -0.0587    ],\n",
       "       [ 0.88453815,  0.643     ,  0.63636364, -0.0768    ],\n",
       "       [ 0.5813253 ,  0.871     ,  0.36363636, -0.14383333],\n",
       "       [ 0.79216867,  0.742     ,  0.90909091, -0.12641667],\n",
       "       [ 0.59036145,  0.724     ,  0.36363636, -0.10093333],\n",
       "       [ 0.75502008,  0.5       ,  1.        , -0.16033333],\n",
       "       [ 0.53714859,  0.963     ,  0.        , -0.1032    ],\n",
       "       [ 0.80823293,  0.692     ,  0.        , -0.15321667],\n",
       "       [ 0.81827309,  0.562     ,  0.36363636, -0.12911667],\n",
       "       [ 0.91666667,  0.292     ,  1.        , -0.20536667],\n",
       "       [ 0.49297189,  0.0338    ,  0.36363636, -0.37823333],\n",
       "       [ 0.32028112,  0.415     ,  0.        , -0.13366667],\n",
       "       [ 0.65963855,  0.653     ,  0.        , -0.12128333],\n",
       "       [ 0.57831325,  0.617     ,  0.72727273, -0.10021667],\n",
       "       [ 0.79718876,  0.692     ,  0.90909091, -0.15603333],\n",
       "       [ 0.64759036,  0.596     ,  1.        , -0.0893    ],\n",
       "       [ 0.45080321,  0.368     ,  0.72727273, -0.34076667],\n",
       "       [ 0.5562249 ,  0.921     ,  0.18181818, -0.07648333],\n",
       "       [ 0.65562249,  0.878     ,  0.54545455, -0.11983333],\n",
       "       [ 0.12851406,  0.743     ,  0.81818182, -0.16301667]])"
      ]
     },
     "execution_count": 45,
     "metadata": {},
     "output_type": "execute_result"
    }
   ],
   "source": [
    "scaledTracks"
   ]
  },
  {
   "cell_type": "code",
   "execution_count": null,
   "metadata": {},
   "outputs": [],
   "source": []
  }
 ],
 "metadata": {
  "kernelspec": {
   "display_name": "Python 3",
   "language": "python",
   "name": "python3"
  },
  "language_info": {
   "codemirror_mode": {
    "name": "ipython",
    "version": 3
   },
   "file_extension": ".py",
   "mimetype": "text/x-python",
   "name": "python",
   "nbconvert_exporter": "python",
   "pygments_lexer": "ipython3",
   "version": "3.6.5"
  }
 },
 "nbformat": 4,
 "nbformat_minor": 2
}
