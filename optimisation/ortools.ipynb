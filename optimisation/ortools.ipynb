{
 "cells": [
  {
   "cell_type": "code",
   "execution_count": 2,
   "metadata": {},
   "outputs": [],
   "source": [
    "from ortools.algorithms import pywrapknapsack_solver"
   ]
  },
  {
   "cell_type": "code",
   "execution_count": 3,
   "metadata": {},
   "outputs": [
    {
     "name": "stdout",
     "output_type": "stream",
     "text": [
      "Packed items:  [2, 3, 6, 13]\n",
      "Packed weights:  [194, 130, 230, 293]\n",
      "Total weight (same as total value):  847\n"
     ]
    }
   ],
   "source": [
    "solver = pywrapknapsack_solver.KnapsackSolver(pywrapknapsack_solver.KnapsackSolver.KNAPSACK_DYNAMIC_PROGRAMMING_SOLVER,'test')\n",
    "\n",
    "\n",
    "weights = [[565, 406, 194, 130, 435, 367, 230, 315, 393,125, 670, 892, 600, 293, 712, 147, 421, 255]]\n",
    "capacities = [850]\n",
    "values = weights[0]\n",
    "solver.Init(values, weights, capacities)\n",
    "computed_value = solver.Solve()\n",
    "\n",
    "packed_items = [x for x in range(0, len(weights[0])) if solver.BestSolutionContains(x)]\n",
    "packed_weights = [weights[0][i] for i in packed_items]\n",
    "\n",
    "print(\"Packed items: \", packed_items)\n",
    "print(\"Packed weights: \", packed_weights)\n",
    "print(\"Total weight (same as total value): \", computed_value)"
   ]
  },
  {
   "cell_type": "code",
   "execution_count": 1,
   "metadata": {},
   "outputs": [
    {
     "data": {
      "text/plain": [
       "array([[0.458, 0.591, 5, ..., 184.913, 161187, 3],\n",
       "       [0.455, 0.623, 8, ..., 182.345, 220293, 4],\n",
       "       [0.742, 0.753, 1, ..., 132.064, 222727, 4],\n",
       "       ...,\n",
       "       [0.488, 0.275, 2, ..., 97.547, 242667, 3],\n",
       "       [0.624, 0.851, 9, ..., 128.03, 185578, 4],\n",
       "       [0.553, 0.891, 4, ..., 82.011, 252794, 4]], dtype=object)"
      ]
     },
     "execution_count": 1,
     "metadata": {},
     "output_type": "execute_result"
    }
   ],
   "source": [
    "import sys\n",
    "import os\n",
    "import json\n",
    "import matplotlib.pyplot as plt\n",
    "from pprint import pprint\n",
    "import numpy as np\n",
    "from datetime import datetime\n",
    "import pandas as pd\n",
    "import seaborn as sns\n",
    "\n",
    "sys.path.append(os.path.abspath('../'))\n",
    "from data import Data\n",
    "\n",
    "d = Data()\n",
    "\n",
    "tracks = d.getTrackFeatures()\n",
    "\n",
    "tracks"
   ]
  },
  {
   "cell_type": "markdown",
   "metadata": {},
   "source": [
    "## MIP"
   ]
  },
  {
   "cell_type": "code",
   "execution_count": 9,
   "metadata": {},
   "outputs": [
    {
     "name": "stdout",
     "output_type": "stream",
     "text": [
      "Total cost =  326.0\n",
      "\n",
      "Worker 0  assigned to task 6   Cost =  12\n",
      "Worker 1  assigned to task 0   Cost =  35\n",
      "Worker 1  assigned to task 2   Cost =  55\n",
      "Worker 4  assigned to task 4   Cost =  59\n",
      "Worker 5  assigned to task 5   Cost =  31\n",
      "Worker 5  assigned to task 7   Cost =  34\n",
      "Worker 6  assigned to task 1   Cost =  51\n",
      "Worker 8  assigned to task 3   Cost =  49\n",
      "\n",
      "Time =  61 milliseconds\n"
     ]
    }
   ],
   "source": [
    "from ortools.linear_solver import pywraplp\n",
    "\n",
    "# Instantiate a mixed-integer solver\n",
    "solver = pywraplp.Solver('SolveTransportationProblem', pywraplp.Solver.CBC_MIXED_INTEGER_PROGRAMMING)\n",
    "\n",
    "cost = [[90, 76, 75, 70, 50, 74, 12, 68],\n",
    "      [35, 85, 55, 65, 48, 101, 70, 83],\n",
    "      [125, 95, 90, 105, 59, 120, 36, 73],\n",
    "      [45, 110, 95, 115, 104, 83, 37, 71],\n",
    "      [60, 105, 80, 75, 59, 62, 93, 88],\n",
    "      [45, 65, 110, 95, 47, 31, 81, 34],\n",
    "      [38, 51, 107, 41, 69, 99, 115, 48],\n",
    "      [47, 85, 57, 71, 92, 77, 109, 36],\n",
    "      [39, 63, 97, 49, 118, 56, 92, 61],\n",
    "      [47, 101, 71, 60, 88, 109, 52, 90]]\n",
    "\n",
    "task_sizes = [10, 7, 3, 12, 15, 4, 11, 5]\n",
    "\n",
    "# Maximum total of task sizes for any worker\n",
    "total_size_max = 15\n",
    "num_workers = len(cost)\n",
    "num_tasks = len(cost[1])\n",
    "# Variables\n",
    "x = {}\n",
    "\n",
    "for i in range(num_workers):\n",
    "    for j in range(num_tasks):\n",
    "      x[i, j] = solver.IntVar(0, 1, 'x[%i,%i]' % (i, j))\n",
    "\n",
    "  # Constraints\n",
    "\n",
    "  # The total size of the tasks each worker takes on is at most total_size_max.\n",
    "\n",
    "for i in range(num_workers):\n",
    "    solver.Add(solver.Sum([task_sizes[j] * x[i, j] for j in range(num_tasks)]) <= total_size_max)\n",
    "\n",
    "  # Each task is assigned to at least one worker.\n",
    "\n",
    "for j in range(num_tasks):\n",
    "    solver.Add(solver.Sum([x[i, j] for i in range(num_workers)]) >= 1)\n",
    "\n",
    "solver.Minimize(solver.Sum([cost[i][j] * x[i,j] for i in range(num_workers)\n",
    "                                                  for j in range(num_tasks)]))\n",
    "sol = solver.Solve()\n",
    "\n",
    "\n",
    "print('Total cost = ', solver.Objective().Value())\n",
    "print()\n",
    "for i in range(num_workers):\n",
    "    for j in range(num_tasks):\n",
    "        if x[i, j].solution_value() > 0:\n",
    "            print('Worker', i,' assigned to task', j, '  Cost = ', cost[i][j])\n",
    "print()\n",
    "print(\"Time = \", solver.WallTime(), \"milliseconds\")"
   ]
  },
  {
   "cell_type": "markdown",
   "metadata": {},
   "source": [
    "## Set Creation"
   ]
  },
  {
   "cell_type": "code",
   "execution_count": null,
   "metadata": {},
   "outputs": [],
   "source": []
  },
  {
   "cell_type": "code",
   "execution_count": null,
   "metadata": {},
   "outputs": [],
   "source": []
  },
  {
   "cell_type": "code",
   "execution_count": null,
   "metadata": {},
   "outputs": [],
   "source": []
  }
 ],
 "metadata": {
  "kernelspec": {
   "display_name": "Python 3",
   "language": "python",
   "name": "python3"
  },
  "language_info": {
   "codemirror_mode": {
    "name": "ipython",
    "version": 3
   },
   "file_extension": ".py",
   "mimetype": "text/x-python",
   "name": "python",
   "nbconvert_exporter": "python",
   "pygments_lexer": "ipython3",
   "version": "3.6.5"
  }
 },
 "nbformat": 4,
 "nbformat_minor": 2
}
