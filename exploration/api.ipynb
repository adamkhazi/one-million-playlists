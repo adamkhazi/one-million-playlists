{
 "cells": [
  {
   "cell_type": "code",
   "execution_count": 27,
   "metadata": {},
   "outputs": [
    {
     "name": "stdout",
     "output_type": "stream",
     "text": [
      "The autoreload extension is already loaded. To reload it, use:\n",
      "  %reload_ext autoreload\n"
     ]
    }
   ],
   "source": [
    "%load_ext autoreload\n",
    "%autoreload 2\n",
    "%matplotlib inline"
   ]
  },
  {
   "cell_type": "code",
   "execution_count": 28,
   "metadata": {},
   "outputs": [],
   "source": [
    "import sys\n",
    "import os\n",
    "sys.path.append(os.path.abspath('../'))\n",
    "from api import API"
   ]
  },
  {
   "cell_type": "code",
   "execution_count": 29,
   "metadata": {},
   "outputs": [
    {
     "data": {
      "text/plain": [
       "{'album': {'album_type': 'album',\n",
       "  'artists': [{'external_urls': {'spotify': 'https://open.spotify.com/artist/2wIVse2owClT7go1WT98tk'},\n",
       "    'href': 'https://api.spotify.com/v1/artists/2wIVse2owClT7go1WT98tk',\n",
       "    'id': '2wIVse2owClT7go1WT98tk',\n",
       "    'name': 'Missy Elliott',\n",
       "    'type': 'artist',\n",
       "    'uri': 'spotify:artist:2wIVse2owClT7go1WT98tk'}],\n",
       "  'available_markets': ['AD',\n",
       "   'AR',\n",
       "   'AT',\n",
       "   'AU',\n",
       "   'BE',\n",
       "   'BG',\n",
       "   'BO',\n",
       "   'BR',\n",
       "   'CA',\n",
       "   'CH',\n",
       "   'CL',\n",
       "   'CO',\n",
       "   'CR',\n",
       "   'CY',\n",
       "   'CZ',\n",
       "   'DE',\n",
       "   'DK',\n",
       "   'DO',\n",
       "   'EC',\n",
       "   'EE',\n",
       "   'ES',\n",
       "   'FI',\n",
       "   'FR',\n",
       "   'GB',\n",
       "   'GR',\n",
       "   'GT',\n",
       "   'HK',\n",
       "   'HN',\n",
       "   'HU',\n",
       "   'ID',\n",
       "   'IE',\n",
       "   'IL',\n",
       "   'IS',\n",
       "   'IT',\n",
       "   'JP',\n",
       "   'LI',\n",
       "   'LT',\n",
       "   'LU',\n",
       "   'LV',\n",
       "   'MC',\n",
       "   'MT',\n",
       "   'MX',\n",
       "   'MY',\n",
       "   'NI',\n",
       "   'NL',\n",
       "   'NO',\n",
       "   'NZ',\n",
       "   'PA',\n",
       "   'PE',\n",
       "   'PH',\n",
       "   'PL',\n",
       "   'PT',\n",
       "   'PY',\n",
       "   'RO',\n",
       "   'SE',\n",
       "   'SG',\n",
       "   'SK',\n",
       "   'SV',\n",
       "   'TH',\n",
       "   'TR',\n",
       "   'TW',\n",
       "   'US',\n",
       "   'UY',\n",
       "   'VN',\n",
       "   'ZA'],\n",
       "  'external_urls': {'spotify': 'https://open.spotify.com/album/6vV5UrXcfyQD1wu4Qo2I9K'},\n",
       "  'href': 'https://api.spotify.com/v1/albums/6vV5UrXcfyQD1wu4Qo2I9K',\n",
       "  'id': '6vV5UrXcfyQD1wu4Qo2I9K',\n",
       "  'images': [{'height': 640,\n",
       "    'url': 'https://i.scdn.co/image/608d68c28beb4d3fb2891ba983965c28d550f592',\n",
       "    'width': 640},\n",
       "   {'height': 300,\n",
       "    'url': 'https://i.scdn.co/image/facb5dc58151f589a8328d0aa148425e67e260ea',\n",
       "    'width': 300},\n",
       "   {'height': 64,\n",
       "    'url': 'https://i.scdn.co/image/03b79b1f4336fe04ec3b62d9fd01f2034bff4fb5',\n",
       "    'width': 64}],\n",
       "  'name': 'The Cookbook',\n",
       "  'release_date': '2005-07-04',\n",
       "  'release_date_precision': 'day',\n",
       "  'type': 'album',\n",
       "  'uri': 'spotify:album:6vV5UrXcfyQD1wu4Qo2I9K'},\n",
       " 'artists': [{'external_urls': {'spotify': 'https://open.spotify.com/artist/2wIVse2owClT7go1WT98tk'},\n",
       "   'href': 'https://api.spotify.com/v1/artists/2wIVse2owClT7go1WT98tk',\n",
       "   'id': '2wIVse2owClT7go1WT98tk',\n",
       "   'name': 'Missy Elliott',\n",
       "   'type': 'artist',\n",
       "   'uri': 'spotify:artist:2wIVse2owClT7go1WT98tk'},\n",
       "  {'external_urls': {'spotify': 'https://open.spotify.com/artist/2NdeV5rLm47xAvogXrYhJX'},\n",
       "   'href': 'https://api.spotify.com/v1/artists/2NdeV5rLm47xAvogXrYhJX',\n",
       "   'id': '2NdeV5rLm47xAvogXrYhJX',\n",
       "   'name': 'Ciara',\n",
       "   'type': 'artist',\n",
       "   'uri': 'spotify:artist:2NdeV5rLm47xAvogXrYhJX'},\n",
       "  {'external_urls': {'spotify': 'https://open.spotify.com/artist/15GGbJKqC6w0VYyAJtjej6'},\n",
       "   'href': 'https://api.spotify.com/v1/artists/15GGbJKqC6w0VYyAJtjej6',\n",
       "   'id': '15GGbJKqC6w0VYyAJtjej6',\n",
       "   'name': 'Fatman Scoop',\n",
       "   'type': 'artist',\n",
       "   'uri': 'spotify:artist:15GGbJKqC6w0VYyAJtjej6'}],\n",
       " 'available_markets': ['AD',\n",
       "  'AR',\n",
       "  'AT',\n",
       "  'AU',\n",
       "  'BE',\n",
       "  'BG',\n",
       "  'BO',\n",
       "  'BR',\n",
       "  'CA',\n",
       "  'CH',\n",
       "  'CL',\n",
       "  'CO',\n",
       "  'CR',\n",
       "  'CY',\n",
       "  'CZ',\n",
       "  'DE',\n",
       "  'DK',\n",
       "  'DO',\n",
       "  'EC',\n",
       "  'EE',\n",
       "  'ES',\n",
       "  'FI',\n",
       "  'FR',\n",
       "  'GB',\n",
       "  'GR',\n",
       "  'GT',\n",
       "  'HK',\n",
       "  'HN',\n",
       "  'HU',\n",
       "  'ID',\n",
       "  'IE',\n",
       "  'IL',\n",
       "  'IS',\n",
       "  'IT',\n",
       "  'JP',\n",
       "  'LI',\n",
       "  'LT',\n",
       "  'LU',\n",
       "  'LV',\n",
       "  'MC',\n",
       "  'MT',\n",
       "  'MX',\n",
       "  'MY',\n",
       "  'NI',\n",
       "  'NL',\n",
       "  'NO',\n",
       "  'NZ',\n",
       "  'PA',\n",
       "  'PE',\n",
       "  'PH',\n",
       "  'PL',\n",
       "  'PT',\n",
       "  'PY',\n",
       "  'RO',\n",
       "  'SE',\n",
       "  'SG',\n",
       "  'SK',\n",
       "  'SV',\n",
       "  'TH',\n",
       "  'TR',\n",
       "  'TW',\n",
       "  'US',\n",
       "  'UY',\n",
       "  'VN',\n",
       "  'ZA'],\n",
       " 'disc_number': 1,\n",
       " 'duration_ms': 226863,\n",
       " 'explicit': True,\n",
       " 'external_ids': {'isrc': 'USEE10414022'},\n",
       " 'external_urls': {'spotify': 'https://open.spotify.com/track/0UaMYEvWZi0ZqiDOoHU3YI'},\n",
       " 'href': 'https://api.spotify.com/v1/tracks/0UaMYEvWZi0ZqiDOoHU3YI',\n",
       " 'id': '0UaMYEvWZi0ZqiDOoHU3YI',\n",
       " 'is_local': False,\n",
       " 'name': 'Lose Control (feat. Ciara & Fat Man Scoop)',\n",
       " 'popularity': 65,\n",
       " 'preview_url': 'https://p.scdn.co/mp3-preview/fe79cac4e5f67a23d54ea5e884d86af1b5248a88?cid=580922ea8f6b4c38b21cf637350ed1d7',\n",
       " 'track_number': 4,\n",
       " 'type': 'track',\n",
       " 'uri': 'spotify:track:0UaMYEvWZi0ZqiDOoHU3YI'}"
      ]
     },
     "execution_count": 29,
     "metadata": {},
     "output_type": "execute_result"
    }
   ],
   "source": [
    "a = API()\n",
    "a.getTrackInfo('spotify:track:0UaMYEvWZi0ZqiDOoHU3YI')"
   ]
  },
  {
   "cell_type": "code",
   "execution_count": 32,
   "metadata": {},
   "outputs": [],
   "source": [
    "analysis = a.getTrackAnalysis('spotify:track:0UaMYEvWZi0ZqiDOoHU3YI')"
   ]
  },
  {
   "cell_type": "code",
   "execution_count": 16,
   "metadata": {},
   "outputs": [
    {
     "data": {
      "text/plain": [
       "dict_keys(['meta', 'track', 'bars', 'beats', 'tatums', 'sections', 'segments'])"
      ]
     },
     "execution_count": 16,
     "metadata": {},
     "output_type": "execute_result"
    }
   ],
   "source": [
    "analysis.keys()"
   ]
  },
  {
   "cell_type": "code",
   "execution_count": 31,
   "metadata": {},
   "outputs": [],
   "source": [
    "features = a.getTrackFeatures('spotify:track:0UaMYEvWZi0ZqiDOoHU3YI')"
   ]
  },
  {
   "cell_type": "code",
   "execution_count": 37,
   "metadata": {},
   "outputs": [
    {
     "data": {
      "text/plain": [
       "['danceability',\n",
       " 'energy',\n",
       " 'key',\n",
       " 'loudness',\n",
       " 'mode',\n",
       " 'speechiness',\n",
       " 'acousticness',\n",
       " 'instrumentalness',\n",
       " 'liveness',\n",
       " 'valence',\n",
       " 'tempo',\n",
       " 'type',\n",
       " 'id',\n",
       " 'uri',\n",
       " 'track_href',\n",
       " 'analysis_url',\n",
       " 'duration_ms',\n",
       " 'time_signature']"
      ]
     },
     "execution_count": 37,
     "metadata": {},
     "output_type": "execute_result"
    }
   ],
   "source": [
    "list(features[0].keys())"
   ]
  },
  {
   "cell_type": "code",
   "execution_count": 36,
   "metadata": {},
   "outputs": [
    {
     "data": {
      "text/plain": [
       "[{'danceability': 0.904,\n",
       "  'energy': 0.813,\n",
       "  'key': 4,\n",
       "  'loudness': -7.105,\n",
       "  'mode': 0,\n",
       "  'speechiness': 0.121,\n",
       "  'acousticness': 0.0311,\n",
       "  'instrumentalness': 0.00697,\n",
       "  'liveness': 0.0471,\n",
       "  'valence': 0.81,\n",
       "  'tempo': 125.461,\n",
       "  'type': 'audio_features',\n",
       "  'id': '0UaMYEvWZi0ZqiDOoHU3YI',\n",
       "  'uri': 'spotify:track:0UaMYEvWZi0ZqiDOoHU3YI',\n",
       "  'track_href': 'https://api.spotify.com/v1/tracks/0UaMYEvWZi0ZqiDOoHU3YI',\n",
       "  'analysis_url': 'https://api.spotify.com/v1/audio-analysis/0UaMYEvWZi0ZqiDOoHU3YI',\n",
       "  'duration_ms': 226864,\n",
       "  'time_signature': 4}]"
      ]
     },
     "execution_count": 36,
     "metadata": {},
     "output_type": "execute_result"
    }
   ],
   "source": [
    "features"
   ]
  }
 ],
 "metadata": {
  "kernelspec": {
   "display_name": "Python 3",
   "language": "python",
   "name": "python3"
  },
  "language_info": {
   "codemirror_mode": {
    "name": "ipython",
    "version": 3
   },
   "file_extension": ".py",
   "mimetype": "text/x-python",
   "name": "python",
   "nbconvert_exporter": "python",
   "pygments_lexer": "ipython3",
   "version": "3.6.5"
  }
 },
 "nbformat": 4,
 "nbformat_minor": 2
}
