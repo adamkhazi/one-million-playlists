{
 "cells": [
  {
   "cell_type": "code",
   "execution_count": 27,
   "metadata": {},
   "outputs": [
    {
     "name": "stdout",
     "output_type": "stream",
     "text": [
      "The autoreload extension is already loaded. To reload it, use:\n",
      "  %reload_ext autoreload\n"
     ]
    }
   ],
   "source": [
    "%load_ext autoreload\n",
    "%autoreload 2\n",
    "%matplotlib inline"
   ]
  },
  {
   "cell_type": "code",
   "execution_count": 28,
   "metadata": {},
   "outputs": [],
   "source": [
    "import sys\n",
    "import os\n",
    "sys.path.append(os.path.abspath('../'))\n",
    "from api import API"
   ]
  },
  {
   "cell_type": "code",
   "execution_count": 29,
   "metadata": {},
   "outputs": [
    {
     "data": {
      "text/plain": [
       "{'album': {'album_type': 'album',\n",
       "  'artists': [{'external_urls': {'spotify': 'https://open.spotify.com/artist/2wIVse2owClT7go1WT98tk'},\n",
       "    'href': 'https://api.spotify.com/v1/artists/2wIVse2owClT7go1WT98tk',\n",
       "    'id': '2wIVse2owClT7go1WT98tk',\n",
       "    'name': 'Missy Elliott',\n",
       "    'type': 'artist',\n",
       "    'uri': 'spotify:artist:2wIVse2owClT7go1WT98tk'}],\n",
       "  'available_markets': ['AD',\n",
       "   'AR',\n",
       "   'AT',\n",
       "   'AU',\n",
       "   'BE',\n",
       "   'BG',\n",
       "   'BO',\n",
       "   'BR',\n",
       "   'CA',\n",
       "   'CH',\n",
       "   'CL',\n",
       "   'CO',\n",
       "   'CR',\n",
       "   'CY',\n",
       "   'CZ',\n",
       "   'DE',\n",
       "   'DK',\n",
       "   'DO',\n",
       "   'EC',\n",
       "   'EE',\n",
       "   'ES',\n",
       "   'FI',\n",
       "   'FR',\n",
       "   'GB',\n",
       "   'GR',\n",
       "   'GT',\n",
       "   'HK',\n",
       "   'HN',\n",
       "   'HU',\n",
       "   'ID',\n",
       "   'IE',\n",
       "   'IL',\n",
       "   'IS',\n",
       "   'IT',\n",
       "   'JP',\n",
       "   'LI',\n",
       "   'LT',\n",
       "   'LU',\n",
       "   'LV',\n",
       "   'MC',\n",
       "   'MT',\n",
       "   'MX',\n",
       "   'MY',\n",
       "   'NI',\n",
       "   'NL',\n",
       "   'NO',\n",
       "   'NZ',\n",
       "   'PA',\n",
       "   'PE',\n",
       "   'PH',\n",
       "   'PL',\n",
       "   'PT',\n",
       "   'PY',\n",
       "   'RO',\n",
       "   'SE',\n",
       "   'SG',\n",
       "   'SK',\n",
       "   'SV',\n",
       "   'TH',\n",
       "   'TR',\n",
       "   'TW',\n",
       "   'US',\n",
       "   'UY',\n",
       "   'VN',\n",
       "   'ZA'],\n",
       "  'external_urls': {'spotify': 'https://open.spotify.com/album/6vV5UrXcfyQD1wu4Qo2I9K'},\n",
       "  'href': 'https://api.spotify.com/v1/albums/6vV5UrXcfyQD1wu4Qo2I9K',\n",
       "  'id': '6vV5UrXcfyQD1wu4Qo2I9K',\n",
       "  'images': [{'height': 640,\n",
       "    'url': 'https://i.scdn.co/image/608d68c28beb4d3fb2891ba983965c28d550f592',\n",
       "    'width': 640},\n",
       "   {'height': 300,\n",
       "    'url': 'https://i.scdn.co/image/facb5dc58151f589a8328d0aa148425e67e260ea',\n",
       "    'width': 300},\n",
       "   {'height': 64,\n",
       "    'url': 'https://i.scdn.co/image/03b79b1f4336fe04ec3b62d9fd01f2034bff4fb5',\n",
       "    'width': 64}],\n",
       "  'name': 'The Cookbook',\n",
       "  'release_date': '2005-07-04',\n",
       "  'release_date_precision': 'day',\n",
       "  'type': 'album',\n",
       "  'uri': 'spotify:album:6vV5UrXcfyQD1wu4Qo2I9K'},\n",
       " 'artists': [{'external_urls': {'spotify': 'https://open.spotify.com/artist/2wIVse2owClT7go1WT98tk'},\n",
       "   'href': 'https://api.spotify.com/v1/artists/2wIVse2owClT7go1WT98tk',\n",
       "   'id': '2wIVse2owClT7go1WT98tk',\n",
       "   'name': 'Missy Elliott',\n",
       "   'type': 'artist',\n",
       "   'uri': 'spotify:artist:2wIVse2owClT7go1WT98tk'},\n",
       "  {'external_urls': {'spotify': 'https://open.spotify.com/artist/2NdeV5rLm47xAvogXrYhJX'},\n",
       "   'href': 'https://api.spotify.com/v1/artists/2NdeV5rLm47xAvogXrYhJX',\n",
       "   'id': '2NdeV5rLm47xAvogXrYhJX',\n",
       "   'name': 'Ciara',\n",
       "   'type': 'artist',\n",
       "   'uri': 'spotify:artist:2NdeV5rLm47xAvogXrYhJX'},\n",
       "  {'external_urls': {'spotify': 'https://open.spotify.com/artist/15GGbJKqC6w0VYyAJtjej6'},\n",
       "   'href': 'https://api.spotify.com/v1/artists/15GGbJKqC6w0VYyAJtjej6',\n",
       "   'id': '15GGbJKqC6w0VYyAJtjej6',\n",
       "   'name': 'Fatman Scoop',\n",
       "   'type': 'artist',\n",
       "   'uri': 'spotify:artist:15GGbJKqC6w0VYyAJtjej6'}],\n",
       " 'available_markets': ['AD',\n",
       "  'AR',\n",
       "  'AT',\n",
       "  'AU',\n",
       "  'BE',\n",
       "  'BG',\n",
       "  'BO',\n",
       "  'BR',\n",
       "  'CA',\n",
       "  'CH',\n",
       "  'CL',\n",
       "  'CO',\n",
       "  'CR',\n",
       "  'CY',\n",
       "  'CZ',\n",
       "  'DE',\n",
       "  'DK',\n",
       "  'DO',\n",
       "  'EC',\n",
       "  'EE',\n",
       "  'ES',\n",
       "  'FI',\n",
       "  'FR',\n",
       "  'GB',\n",
       "  'GR',\n",
       "  'GT',\n",
       "  'HK',\n",
       "  'HN',\n",
       "  'HU',\n",
       "  'ID',\n",
       "  'IE',\n",
       "  'IL',\n",
       "  'IS',\n",
       "  'IT',\n",
       "  'JP',\n",
       "  'LI',\n",
       "  'LT',\n",
       "  'LU',\n",
       "  'LV',\n",
       "  'MC',\n",
       "  'MT',\n",
       "  'MX',\n",
       "  'MY',\n",
       "  'NI',\n",
       "  'NL',\n",
       "  'NO',\n",
       "  'NZ',\n",
       "  'PA',\n",
       "  'PE',\n",
       "  'PH',\n",
       "  'PL',\n",
       "  'PT',\n",
       "  'PY',\n",
       "  'RO',\n",
       "  'SE',\n",
       "  'SG',\n",
       "  'SK',\n",
       "  'SV',\n",
       "  'TH',\n",
       "  'TR',\n",
       "  'TW',\n",
       "  'US',\n",
       "  'UY',\n",
       "  'VN',\n",
       "  'ZA'],\n",
       " 'disc_number': 1,\n",
       " 'duration_ms': 226863,\n",
       " 'explicit': True,\n",
       " 'external_ids': {'isrc': 'USEE10414022'},\n",
       " 'external_urls': {'spotify': 'https://open.spotify.com/track/0UaMYEvWZi0ZqiDOoHU3YI'},\n",
       " 'href': 'https://api.spotify.com/v1/tracks/0UaMYEvWZi0ZqiDOoHU3YI',\n",
       " 'id': '0UaMYEvWZi0ZqiDOoHU3YI',\n",
       " 'is_local': False,\n",
       " 'name': 'Lose Control (feat. Ciara & Fat Man Scoop)',\n",
       " 'popularity': 65,\n",
       " 'preview_url': 'https://p.scdn.co/mp3-preview/fe79cac4e5f67a23d54ea5e884d86af1b5248a88?cid=580922ea8f6b4c38b21cf637350ed1d7',\n",
       " 'track_number': 4,\n",
       " 'type': 'track',\n",
       " 'uri': 'spotify:track:0UaMYEvWZi0ZqiDOoHU3YI'}"
      ]
     },
     "execution_count": 29,
     "metadata": {},
     "output_type": "execute_result"
    }
   ],
   "source": [
    "a = API()\n",
    "a.getTrackInfo('spotify:track:0UaMYEvWZi0ZqiDOoHU3YI')"
   ]
  },
  {
   "cell_type": "code",
   "execution_count": 32,
   "metadata": {},
   "outputs": [],
   "source": [
    "analysis = a.getTrackAnalysis('spotify:track:0UaMYEvWZi0ZqiDOoHU3YI')"
   ]
  },
  {
   "cell_type": "code",
   "execution_count": 16,
   "metadata": {},
   "outputs": [
    {
     "data": {
      "text/plain": [
       "dict_keys(['meta', 'track', 'bars', 'beats', 'tatums', 'sections', 'segments'])"
      ]
     },
     "execution_count": 16,
     "metadata": {},
     "output_type": "execute_result"
    }
   ],
   "source": [
    "analysis.keys()"
   ]
  },
  {
   "cell_type": "code",
   "execution_count": 25,
   "metadata": {},
   "outputs": [
    {
     "data": {
      "text/plain": [
       "{'num_samples': 5002341,\n",
       " 'duration': 226.86354,\n",
       " 'sample_md5': '',\n",
       " 'offset_seconds': 0,\n",
       " 'window_seconds': 0,\n",
       " 'analysis_sample_rate': 22050,\n",
       " 'analysis_channels': 1,\n",
       " 'end_of_fade_in': 0.21469,\n",
       " 'start_of_fade_out': 226.86354,\n",
       " 'loudness': -7.105,\n",
       " 'tempo': 125.461,\n",
       " 'tempo_confidence': 0.474,\n",
       " 'time_signature': 4,\n",
       " 'time_signature_confidence': 1.0,\n",
       " 'key': 4,\n",
       " 'key_confidence': 0.324,\n",
       " 'mode': 0,\n",
       " 'mode_confidence': 0.322,\n",
       " 'codestring': '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',\n",
       " 'code_version': 3.15,\n",
       " 'echoprintstring': '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',\n",
       " 'echoprint_version': 4.12,\n",
       " 'synchstring': 'eJxVWgmSwzAI-0qeEMDn_z-2RhJOd7bbaRPHxhxC4Lq__X3isbnjaTPa0863wDs-vU9_zM9nb4-189_H-ffzeeN_nvf1WOwzbpxbL1727MfPgHjOvfPQyEs9npHfejtPRc8h56Hz2NP88fyuoS2_5TSRj-VFy3kgyNCMhhnPRCnOeTTyZr7Obhy336fxYcf7iw_2BD_vJ__GmWCeGf09b1ui5-iVo9e3Vi48NO0RK5_amrDjVuPeLCfCo5tS17SO3UTtiZtzbOp9cLPzEUlskI0PLNogb44chG_QrkMN80mNpsy5WrsybkqCm4MTbdqGy26OMe5sa6PSK6R3qNswEvM2bTvX71AndKEtLSnUVypY2nRJuWUeauAqs-GVCxwj1FXKEtyGJMhhVF7_USQUll7EHf6qmt4xKKV7TeDQp8yT-5tUtctd7ckgOIs0mg5WOA5JD1z67lcVEz6X8o8zb1CMDIsnjYWLx91pX8d1mzJ9pFv1nGymCrxTey9E8g3psQPPiwZDytg5Hy5Q47YgdVNIyaq5O0__SPG6RhifmOVgDPXSDXSQeoEvdVomv5cAR1zM7NIMQiRn6JgpBywtnd5F95OCJ9xzI1j40IR2OoMnOM7waNdU33RDsXE0lBGzoDvK3nFxyOUGvLVDIiJGe6ifxIn9syjlJX7k6o77XXsBTmmNWikel9umIgiWHXflOLzkutzxLa6YVDc8st_hVHAwvoIKqJkDss-ynQnoDOIGYccxJoiNLkAaVEfegZE3QWRh79QHA3n8QJszzhUzS_doCKGVc4n1RTBjPFep4eMuQUOM8jXerGdNvjE4P-DN5nM9vPZOXzLXrFi_0cd7uVa7DtOglFk4XP5j711FXi60ls_Z4AoYS6ictb1XbjKFXO-daMhNBAEDzk2JM56GlNAJJSFp7j4Ce6dXDm2mC8SowF0moitPTtQl0Li7_hRfMUD4I6T0K0fX54v1m3uZ0mmj1kIb6fgMoeJnRu5r1EKFn6_iu3-27p8WMcDL9L3ERW6vJDluQArJm0AatqHraq4y1rxeVO_zx3P_ZQpT2POhXZ5co-MLh-QmUE67w3-C6ibjQhJOS4jULjT_VO5-cTcwNUaQLCCtVWKbtdNVYbsUQMqGZTMlUivMfulcMQX1h1whf60vGeaN9ioxNRODMOSrs1wIqUxiDEgXAGyj3IwZmGDR0V_FJPZPyDwcLzr3ksqNpI1KnecBTEJv50bWRw8aNBt5zwNkBqM9AzHEOHLkKpKEPQ59o5MbKQmNzTU219ofvUmW4YtZ06_jnpuZnHvRxdIqpXHaLS5_gqSD2VFGq5Gp715k41XubpeXDFojxzZEw7ihAxIgEeLntcVYvRzhPJyk-yX4UwN4vH8kx0odjIGP-1T6n3c_Wq_ILxj1MfUstnaDPyVeCoHKxtJXR-5QbMjJbd1FEceds7sVgZmfshrJaaXr4mM2FY6XnVDTrq2H-FexUiCu1ODflqiBdXE5vuubQk1tZHCbxYe7ZoYPv4_ImLZZtQ7ZNLiStxrj4MwY4ptY72Jj541ctxVrLTxR4JfA2lP8GKlMuSoiXXlraTOhCWd5uJnKmYyQgEANnNNRetFte5GACFVvhTitFWwHR6xKQpdrryKSRSKuuQrDt3Ij-KtogyP1zNqz_UTyfBSfr-4nMyuGEHL0f2jcv3w-pcFK3QyB_mWh_fx8UQnyyo_-Qaz9GNr_m-QtV52lqVFr-DfMWcyWSY4GVE_1VmBRVj2gFRX5ULOjuvOf8iSArVUnkyAMK2_vihwCaqXC6_JTKR1OPMlfVXutn8IJvuUo5VjtmEI1WGGNzAkpy2ZAYVKINlXap_DvQ2-wss1WpC7G-sqBZ67-ZorI-R1XgN1n4-f68cuO6kFvA9KIPXToohXL6HDgBg9yWHchH010JFCTOdoCXOvsYWnve18nyf2_mfd6RmvLCXqxPPQ6nm65VVaEKFltC7-Y-EdpLW7CdNJyNDfgK5d0yenGe8zVdrSz8JnF0_8XmhonH3orILTyYGcTBjLHUROMNKCLtmSv9KwBjJQYORRuigXOoIC8TmNTfxAfqf28H_2EpKbxG76HWg7BqYBmNpUK4qYyxSZ9nqznwvPF5GIgXoGQIOGChV8AHBq7ZPn9e7-6MHEhZ1VExwcNVq6-sOdavdJu4Y4y1rhz2xCmDYpnlXXazQpm3w4ROPsHAEDEvHocXhQwDUB6KZu85U9kNVMFBr8Bap18ZugJtq4QZupRzfvnoi1FX3a1Ou5eRyVv2WBKWRMu86ocak8lVDGc_qhbBED90YbS-RLMLvmBD1n0Ktuq3nBlJLYD1Y8ywnL8UIspFlcEoHbgkvn7uP851fv5TFzCVoxX8tzPRefX97z9W6Xuxpem_E5p1dgq1_v18Fqfg-J76GeV4kj7tu1uqKz_LENlvxXG2w8Y3Ur831x0ylGLhNSu5IT3Rs0X3yIz4MwZ6T9NwZ_N2_Vbu-r2f3F9ue7BlfmzjYsCpCImao9sdjuf_3ZtzCUvRWj6G2qcsO1E3-mSUqWYujKup4vJxZV4fBItiFzMQU3H98L0Zkxszl10ZapyMXUIrszJVsjxjD0v5akaor7sbUa0Rz2ReWM1Kqaw7FAfY95iXs_YrWzG1y3YLEs6Eewjh7eNonAq8KyIJ1pAQQUfTCm1uSDvrpLei1vsp9zq90K1hO1V74RCmWxS7ITvSptdtbyHVuf-lsTJlNNJBy_B_ZY3Xrf3rg7xe2miU8XijZ1qWT_S-_iFziWuOpnOXEh3l6Xl1_MLvMJZ--2xl_BS_ChTEAjZWViPAHCUr82LtFbHDWwwlJuUqR2c6Qto6f291UtIkoYOR9ziqiliqr9XaMOsuj4IUXPvHjvcNUKBBXtORbwXk3huCfaJQS4bT7-KVXiYSGmRqlWuf4-EgGKZQ53zWxSbrZo8J2Z_XrkrquKcD1v-QybVmVGCEKqBED11pWqUKQqzQuKomoR95H9dSRKFwQS2bsVBzerUa1J71Rn_CLoOCipjbcaDkgQbkYNV8ygr5W6cvV2ZttjRQudZSvWfQhBkbakdyJYXEcV2gclPJqmaenAvi9Rz1Qa_JFvdgHJ7vvwpBrWf_dyDqH4pm9E8CvA621t1weISCl19KdU9tdnXP8CJ-7eIAPNCtsCv0K39jGL9nBNGK0nUgBeqgsOU0EMYNrk_xvC-rMTt4TFCQQLR4Gthj0elnYKxUBJkEHydSO_-9ZVmFjQM-y77F99hy07fJI-qLDqIDiKGjM3maZR7vDp4IMcbN0L2fXAxGnFSOxlqyoZfv5eNm3Ft8QM90uKCmIncfKwOaRgpRXTVMSKK1onbznvnUk86muFKxjCy9Qgy_zreYcbXWPhFVpvBDiZVoRODKefPjVjClCuLL8EicPWHzCmgWPMYAMarZnnZifjai-Q0TQBzaRZwq2i7enk3_RgRHXlpay653haMmcoGvcgXN4HOAfkq1hUZt7WEXC25d2lVPUI6mBud06ISIuVkzbEEpVsbvdHLvEHpnLAnrrMljizJBf22ZIKLyJviMqx9ixomSXZ__cMW59Ibbs4E7_CPy7lfYQLTC45ZIX-d_gTzdz0dOmXCyRNYpSuWfaicl1Z1GEveOHWIDHTWOW9PR_op79TWvXo37UUqZdWH8sebFvFyJ3Z8ck1y4Tcb83ua90nVL8XPKjURPG7VWN3Zrjqscjq-Bxues2o-gC59oCtpC6B6FfJDT6zrKJXblnLLvmFMp6_S1as-0FETO6BMNV1Np6YI84LkKQbjIde24jw6iWf3uFXXt7rHVPIszzV5DI4vHO9mOpVAElXr5ZXT0kzuOtjdGlS9ki-1pcjqgbySWkaEm8eunhDapcwVJET0jXGzj3ylTLNUKgyp9tUskdURiMq65SA7YI7-cvAYmds1No_Cb8Bm_faKgEVoc1zf9EuEXqxe2cx7dYV0tuHKgj7UOvEl96TOTKE9tRUPabCRolddj58Dxctwcv4KJ93Ty9MyPJnsSrEKhC5jdXXXqk9zme3MyVgOu4o7r2YD0d2yDw_weGvuzqmaumS25YBDRHrq6YtLmwwTAaAGPGM9ZZ8kkzzD9XWPcA1NNDrlhINAeu9l-9uyaxKb2KBetIihC3l6RdJ87nEGIzWgjIBhs7U8Bcbxkpqi18dVs5XH8KfT4iBLrVP0CQNdq0A_NYZqIkZS93QvGNeqb-fs_yYLy65hQJZa6TwccFmcrg61E5wNRTiBKpoX0s1ch_jWcBMXbJGXQ8ssDBn_SyiQq4T8RjJgkwHQI8QpHKCqMFVRwvmpFT_gewW0ofwWsiizAxyuNVZkpFUNSmB5ARUqCQT5hvgidlJtMfYB5VZRY7e8BahWPcLelCIxMH64fujHJEPWOH7uaN-mkkBr0ykIgEESuYSoXp0xUxsmcC6MX3zRK5TUYDlqkfET_IEXTrcytlZdqYTJrUadbqXhAcCw4FFUC6hr4jOaTPnBlT8DJ8sNx9XnboMnembr6LeJ24ZkIyQZ2vu66DrfzgVwftVwkI_ufQPm6fLWKRi7-roY6PMPvHAI2tBxWrjQMwYaTl9zGpx9dwCAQxFooHdGOEblMQZOxRtPOzquzJwDfIb4C8bi6Uv5O8qRBs_XxHvPE4l-gv3FLZyLBDQ_PJlsvr94GV5Rr4Z3PIIfmmUo5uYcBxrhn9sGbQmbtYuqW_4TOEEJmFnooJ6IOX8gKijI_ecAPMeXw-6oASq0l7whXHzKJxmI8neRTjWSVx2wdKUvIpLrHA-DAidQprY4azTTiUtXO0mNHqrhrdJXlfT-HtiF_NUp2LV04wpVtawfIYvhN0421IUfd9mpFFYlaxP5JzcWIReZgVJCVAl49qkNQaB813RyG1iXZ6OheTWkkLZaRwp906mYTDByisUTawJiVMbR0KmXBMFo9RvrwH39vJh_hhjpLv8CMjmr6XQnvNor3tBeDWIOTPdD1OYYK1Tgh9CMrX3g0ewPMPWyzA==',\n",
       " 'synch_version': 1.0,\n",
       " 'rhythmstring': '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',\n",
       " 'rhythm_version': 1.0}"
      ]
     },
     "execution_count": 25,
     "metadata": {},
     "output_type": "execute_result"
    }
   ],
   "source": [
    "analysis['track']"
   ]
  },
  {
   "cell_type": "code",
   "execution_count": 31,
   "metadata": {},
   "outputs": [],
   "source": [
    "features = a.getTrackFeatures('spotify:track:0UaMYEvWZi0ZqiDOoHU3YI')"
   ]
  },
  {
   "cell_type": "code",
   "execution_count": 35,
   "metadata": {},
   "outputs": [
    {
     "data": {
      "text/plain": [
       "dict_keys(['danceability', 'energy', 'key', 'loudness', 'mode', 'speechiness', 'acousticness', 'instrumentalness', 'liveness', 'valence', 'tempo', 'type', 'id', 'uri', 'track_href', 'analysis_url', 'duration_ms', 'time_signature'])"
      ]
     },
     "execution_count": 35,
     "metadata": {},
     "output_type": "execute_result"
    }
   ],
   "source": [
    "features[0].keys()"
   ]
  },
  {
   "cell_type": "code",
   "execution_count": 36,
   "metadata": {},
   "outputs": [
    {
     "data": {
      "text/plain": [
       "[{'danceability': 0.904,\n",
       "  'energy': 0.813,\n",
       "  'key': 4,\n",
       "  'loudness': -7.105,\n",
       "  'mode': 0,\n",
       "  'speechiness': 0.121,\n",
       "  'acousticness': 0.0311,\n",
       "  'instrumentalness': 0.00697,\n",
       "  'liveness': 0.0471,\n",
       "  'valence': 0.81,\n",
       "  'tempo': 125.461,\n",
       "  'type': 'audio_features',\n",
       "  'id': '0UaMYEvWZi0ZqiDOoHU3YI',\n",
       "  'uri': 'spotify:track:0UaMYEvWZi0ZqiDOoHU3YI',\n",
       "  'track_href': 'https://api.spotify.com/v1/tracks/0UaMYEvWZi0ZqiDOoHU3YI',\n",
       "  'analysis_url': 'https://api.spotify.com/v1/audio-analysis/0UaMYEvWZi0ZqiDOoHU3YI',\n",
       "  'duration_ms': 226864,\n",
       "  'time_signature': 4}]"
      ]
     },
     "execution_count": 36,
     "metadata": {},
     "output_type": "execute_result"
    }
   ],
   "source": [
    "features"
   ]
  },
  {
   "cell_type": "code",
   "execution_count": null,
   "metadata": {},
   "outputs": [],
   "source": []
  }
 ],
 "metadata": {
  "kernelspec": {
   "display_name": "Python 3",
   "language": "python",
   "name": "python3"
  },
  "language_info": {
   "codemirror_mode": {
    "name": "ipython",
    "version": 3
   },
   "file_extension": ".py",
   "mimetype": "text/x-python",
   "name": "python",
   "nbconvert_exporter": "python",
   "pygments_lexer": "ipython3",
   "version": "3.6.5"
  }
 },
 "nbformat": 4,
 "nbformat_minor": 2
}
