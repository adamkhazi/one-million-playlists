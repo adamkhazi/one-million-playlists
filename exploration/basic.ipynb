{
 "cells": [
  {
   "cell_type": "code",
   "execution_count": 1,
   "metadata": {},
   "outputs": [],
   "source": [
    "%load_ext autoreload\n",
    "%autoreload 2"
   ]
  },
  {
   "cell_type": "code",
   "execution_count": 13,
   "metadata": {},
   "outputs": [],
   "source": [
    "import sys\n",
    "import os\n",
    "import json\n",
    "from pprint import pprint\n",
    "\n",
    "sys.path.append(os.path.abspath('../'))\n",
    "from data import Data\n",
    "\n",
    "path_to_data=\"/home/akhazi/Dropbox/University College London/MSc/Dissertation/Datasets/data/\"\n",
    "path_to_data_win=\"C:/Users/Adam Khazi/Dropbox/University College London/MSc/Dissertation/Datasets/data/\""
   ]
  },
  {
   "cell_type": "code",
   "execution_count": 14,
   "metadata": {},
   "outputs": [],
   "source": [
    "with open(path_to_data_win + \"mpd.slice.0-999.json\") as f:\n",
    "    data = json.load(f)"
   ]
  },
  {
   "cell_type": "code",
   "execution_count": 155,
   "metadata": {},
   "outputs": [],
   "source": [
    "d = Data()\n",
    "playlistData = d.load(100)"
   ]
  },
  {
   "cell_type": "code",
   "execution_count": 17,
   "metadata": {},
   "outputs": [
    {
     "data": {
      "text/plain": [
       "list"
      ]
     },
     "execution_count": 17,
     "metadata": {},
     "output_type": "execute_result"
    }
   ],
   "source": [
    "type(playlistData)"
   ]
  },
  {
   "cell_type": "code",
   "execution_count": 28,
   "metadata": {},
   "outputs": [
    {
     "data": {
      "text/plain": [
       "{'generated_on': '2017-12-03 08:41:42.057563',\n",
       " 'slice': '0-999',\n",
       " 'version': 'v1'}"
      ]
     },
     "execution_count": 28,
     "metadata": {},
     "output_type": "execute_result"
    }
   ],
   "source": [
    "data['info']"
   ]
  },
  {
   "cell_type": "markdown",
   "metadata": {},
   "source": [
    "## Track Lengths"
   ]
  },
  {
   "cell_type": "code",
   "execution_count": 35,
   "metadata": {},
   "outputs": [],
   "source": [
    "playlist_dist = dict()\n",
    "for playlistSet in playlistData:\n",
    "    for playlist in playlistSet[\"playlists\"]:\n",
    "        if playlist[\"num_tracks\"] not in playlist_dist:\n",
    "            playlist_dist[playlist[\"num_tracks\"]] = 1\n",
    "        else:\n",
    "            playlist_dist[playlist[\"num_tracks\"]]+=1"
   ]
  },
  {
   "cell_type": "code",
   "execution_count": 36,
   "metadata": {},
   "outputs": [],
   "source": [
    "playlist_tuples = list(playlist_dist.items())\n",
    "playlist_tuples.sort(key=lambda tup: tup[0])\n",
    "playlist_nr_tracks=[t[0] for t in playlist_tuples]\n",
    "playlist_nr_nr_tracks=[t[1] for t in playlist_tuples]"
   ]
  },
  {
   "cell_type": "code",
   "execution_count": 37,
   "metadata": {},
   "outputs": [
    {
     "data": {
      "image/png": "[encoded data removed]",
      "text/plain": [
       "<matplotlib.figure.Figure at 0x22adf20e7b8>"
      ]
     },
     "metadata": {},
     "output_type": "display_data"
    }
   ],
   "source": [
    "%matplotlib inline\n",
    "import matplotlib.pyplot as plt\n",
    "fig=plt.figure()\n",
    "ax = fig.add_subplot(1,1,1)\n",
    "ax.bar(playlist_nr_tracks, height=playlist_nr_nr_tracks)\n",
    "plt.title('Number of Tracks')\n",
    "plt.xlabel('Number of Tracks')\n",
    "plt.ylabel('Number of Playlists')\n",
    "plt.show()"
   ]
  },
  {
   "cell_type": "markdown",
   "metadata": {},
   "source": [
    "## Playlist Edits"
   ]
  },
  {
   "cell_type": "code",
   "execution_count": 38,
   "metadata": {},
   "outputs": [],
   "source": [
    "playlist_dist = dict()\n",
    "for playlistSet in playlistData:\n",
    "    for playlist in playlistSet[\"playlists\"]:\n",
    "        if playlist[\"num_edits\"] not in playlist_dist:\n",
    "            playlist_dist[playlist[\"num_edits\"]] = 1\n",
    "        else:\n",
    "            playlist_dist[playlist[\"num_edits\"]] += 1"
   ]
  },
  {
   "cell_type": "code",
   "execution_count": 39,
   "metadata": {},
   "outputs": [],
   "source": [
    "playlist_tuples = list(playlist_dist.items())\n",
    "playlist_tuples.sort(key=lambda tup: tup[0])\n",
    "playlist_nr_edits=[t[0] for t in playlist_tuples]\n",
    "playlist_nr_nr_edits=[t[1] for t in playlist_tuples]"
   ]
  },
  {
   "cell_type": "code",
   "execution_count": 40,
   "metadata": {},
   "outputs": [
    {
     "data": {
      "image/png": "[encoded data removed]",
      "text/plain": [
       "<matplotlib.figure.Figure at 0x22ae1359160>"
      ]
     },
     "metadata": {},
     "output_type": "display_data"
    }
   ],
   "source": [
    "%matplotlib inline\n",
    "import matplotlib.pyplot as plt\n",
    "fig=plt.figure()\n",
    "ax = fig.add_subplot(1,1,1)\n",
    "ax.bar(playlist_nr_tracks, height=playlist_nr_nr_tracks)\n",
    "plt.title('Playlist Edits')\n",
    "plt.xlabel('Edits')\n",
    "plt.ylabel('Number of Playlists')\n",
    "plt.show()"
   ]
  },
  {
   "cell_type": "markdown",
   "metadata": {},
   "source": [
    "## Playlist Edits (checking collaboration)"
   ]
  },
  {
   "cell_type": "code",
   "execution_count": 41,
   "metadata": {},
   "outputs": [],
   "source": [
    "playlist_dist_collab_on = dict()\n",
    "for playlistSet in playlistData:\n",
    "    for playlist in playlistSet[\"playlists\"]:\n",
    "        if playlist[\"collaborative\"] == 'true':\n",
    "            if playlist[\"num_edits\"] not in playlist_dist_collab_on:\n",
    "                playlist_dist_collab_on[playlist[\"num_edits\"]] = 1\n",
    "            else:\n",
    "                playlist_dist_collab_on[playlist[\"num_edits\"]] += 1"
   ]
  },
  {
   "cell_type": "code",
   "execution_count": 42,
   "metadata": {},
   "outputs": [],
   "source": [
    "playlist_dist_collab_off = dict()\n",
    "for playlistSet in playlistData:\n",
    "    for playlist in playlistSet[\"playlists\"]:\n",
    "        if playlist[\"collaborative\"] == 'false':\n",
    "            if playlist[\"num_edits\"] not in playlist_dist_collab_off:\n",
    "                playlist_dist_collab_off[playlist[\"num_edits\"]] = 1\n",
    "            else:\n",
    "                playlist_dist_collab_off[playlist[\"num_edits\"]] += 1"
   ]
  },
  {
   "cell_type": "code",
   "execution_count": 43,
   "metadata": {},
   "outputs": [],
   "source": [
    "playlist_tuples = list(playlist_dist_collab_on.items())\n",
    "playlist_tuples.sort(key=lambda tup: tup[0])\n",
    "playlist_nr_edits_on=[t[0] for t in playlist_tuples]\n",
    "playlist_nr_nr_edits_on=[t[1] for t in playlist_tuples]"
   ]
  },
  {
   "cell_type": "code",
   "execution_count": 44,
   "metadata": {},
   "outputs": [],
   "source": [
    "playlist_tuples = list(playlist_dist_collab_off.items())\n",
    "playlist_tuples.sort(key=lambda tup: tup[0])\n",
    "playlist_nr_edits_off=[t[0] for t in playlist_tuples]\n",
    "playlist_nr_nr_edits_off=[t[1] for t in playlist_tuples]"
   ]
  },
  {
   "cell_type": "code",
   "execution_count": 45,
   "metadata": {},
   "outputs": [
    {
     "data": {
      "image/png": "[encoded data removed]",
      "text/plain": [
       "<matplotlib.figure.Figure at 0x22a989a8d68>"
      ]
     },
     "metadata": {},
     "output_type": "display_data"
    }
   ],
   "source": [
    "%matplotlib inline\n",
    "import matplotlib.pyplot as plt\n",
    "fig=plt.figure()\n",
    "ax = fig.add_subplot(1,2,1)\n",
    "ax.bar(playlist_nr_edits_on, height=playlist_nr_nr_edits_on)\n",
    "plt.title('Playlist Edits - with Collaboration')\n",
    "plt.xlabel('Edits')\n",
    "plt.ylabel('Number of Playlists')\n",
    "\n",
    "ax = fig.add_subplot(1,2,2)\n",
    "ax.bar(playlist_nr_edits_off, height=playlist_nr_nr_edits_off)\n",
    "plt.title('Playlist Edits - without Collaboration')\n",
    "plt.xlabel('Edits')\n",
    "plt.ylabel('Number of Playlists')\n",
    "\n",
    "plt.tight_layout()\n",
    "plt.show()"
   ]
  },
  {
   "cell_type": "markdown",
   "metadata": {},
   "source": [
    "## Duration of Playlists"
   ]
  },
  {
   "cell_type": "code",
   "execution_count": 46,
   "metadata": {},
   "outputs": [],
   "source": [
    "playlist_len_ms = []\n",
    "for playlistSet in playlistData:\n",
    "    for playlist in playlistSet[\"playlists\"]:\n",
    "        playlist_len_ms.append(playlist['duration_ms'])"
   ]
  },
  {
   "cell_type": "code",
   "execution_count": 47,
   "metadata": {},
   "outputs": [],
   "source": [
    "playlist_len_ms.sort()"
   ]
  },
  {
   "cell_type": "code",
   "execution_count": 48,
   "metadata": {},
   "outputs": [],
   "source": [
    "playlist_len_ms\n",
    "playlist_len_mins = [(x / 100)/60 for x in playlist_len_ms] # in mins"
   ]
  },
  {
   "cell_type": "code",
   "execution_count": 49,
   "metadata": {},
   "outputs": [
    {
     "data": {
      "text/plain": [
       "[<matplotlib.lines.Line2D at 0x22af0ff6e80>]"
      ]
     },
     "execution_count": 49,
     "metadata": {},
     "output_type": "execute_result"
    },
    {
     "data": {
      "image/png": "[encoded data removed]",
      "text/plain": [
       "<matplotlib.figure.Figure at 0x22a9851d9e8>"
      ]
     },
     "metadata": {},
     "output_type": "display_data"
    }
   ],
   "source": [
    "import numpy as np\n",
    "import scipy.stats as stats\n",
    "import matplotlib.pyplot as plt\n",
    "\n",
    "hmean = np.mean(playlist_len_mins)\n",
    "hstd = np.std(playlist_len_mins)\n",
    "pdf = stats.norm.pdf(playlist_len_mins, hmean, hstd)\n",
    "plt.title('Playlist Duration')\n",
    "plt.xlabel('Length in Minutes')\n",
    "plt.ylabel('Number of Playlists')\n",
    "\n",
    "plt.plot(playlist_len_mins, pdf) # including h here is crucial"
   ]
  },
  {
   "cell_type": "markdown",
   "metadata": {},
   "source": [
    "## Artists"
   ]
  },
  {
   "cell_type": "code",
   "execution_count": 50,
   "metadata": {},
   "outputs": [],
   "source": [
    "nr_artists = []\n",
    "for playlistSet in playlistData:\n",
    "    for playlist in playlistSet[\"playlists\"]:\n",
    "        nr_artists.append(playlist['num_artists'])"
   ]
  },
  {
   "cell_type": "code",
   "execution_count": 51,
   "metadata": {},
   "outputs": [],
   "source": [
    "nr_artists.sort()"
   ]
  },
  {
   "cell_type": "code",
   "execution_count": 52,
   "metadata": {},
   "outputs": [
    {
     "data": {
      "image/png": "[encoded data removed]",
      "text/plain": [
       "<matplotlib.figure.Figure at 0x22ae1fcb278>"
      ]
     },
     "metadata": {},
     "output_type": "display_data"
    }
   ],
   "source": [
    "%matplotlib inline\n",
    "import matplotlib.pyplot as plt\n",
    "fig=plt.figure()\n",
    "ax = fig.add_subplot(1,1,1)\n",
    "ax.bar(playlist_nr_tracks, height=playlist_nr_nr_tracks)\n",
    "plt.title('Number of Artists')\n",
    "plt.xlabel('Number of Artists')\n",
    "plt.ylabel('Number of Playlists')\n",
    "plt.show()"
   ]
  },
  {
   "cell_type": "markdown",
   "metadata": {},
   "source": [
    "## Artists vs. Tracks"
   ]
  },
  {
   "cell_type": "code",
   "execution_count": 65,
   "metadata": {},
   "outputs": [],
   "source": [
    "artists_v_tracks = []\n",
    "for playlistSet in playlistData:\n",
    "    for playlist in playlistSet[\"playlists\"]:\n",
    "        artists_v_tracks.append((playlist['num_artists'], playlist['num_tracks']))"
   ]
  },
  {
   "cell_type": "code",
   "execution_count": 66,
   "metadata": {},
   "outputs": [],
   "source": [
    "artists_v_tracks.sort(key=lambda tup: tup[1]) # sort by nr of tracks per playlist"
   ]
  },
  {
   "cell_type": "code",
   "execution_count": 67,
   "metadata": {},
   "outputs": [],
   "source": [
    "nr_artists=[t[0] for t in artists_v_tracks]\n",
    "nr_tracks=[t[1] for t in artists_v_tracks]"
   ]
  },
  {
   "cell_type": "code",
   "execution_count": null,
   "metadata": {},
   "outputs": [],
   "source": [
    "artists_v_tracks"
   ]
  },
  {
   "cell_type": "code",
   "execution_count": 68,
   "metadata": {},
   "outputs": [
    {
     "data": {
      "image/png": "[encoded data removed]",
      "text/plain": [
       "<matplotlib.figure.Figure at 0x22aec370470>"
      ]
     },
     "metadata": {},
     "output_type": "display_data"
    }
   ],
   "source": [
    "import matplotlib.pyplot as plt\n",
    "fig=plt.figure()\n",
    "ax = fig.add_subplot(1,1,1)\n",
    "ax.bar(nr_tracks, height=nr_artists)\n",
    "plt.title('Tracks vs. Artists per Playlist')\n",
    "plt.xlabel('Number of Tracks')\n",
    "plt.ylabel('Number of Artists')\n",
    "plt.show()"
   ]
  },
  {
   "cell_type": "markdown",
   "metadata": {},
   "source": [
    "## Artists vs. Albums"
   ]
  },
  {
   "cell_type": "code",
   "execution_count": 70,
   "metadata": {},
   "outputs": [],
   "source": [
    "artists_v_albums = []\n",
    "for playlistSet in playlistData:\n",
    "    for playlist in playlistSet[\"playlists\"]:\n",
    "        artists_v_albums.append((playlist['num_artists'], playlist['num_albums']))"
   ]
  },
  {
   "cell_type": "code",
   "execution_count": 71,
   "metadata": {},
   "outputs": [],
   "source": [
    "artists_v_albums.sort(key=lambda tup: tup[0]) # sort by nr of artists per playlist"
   ]
  },
  {
   "cell_type": "code",
   "execution_count": 72,
   "metadata": {},
   "outputs": [],
   "source": [
    "nr_artists=[t[0] for t in artists_v_albums]\n",
    "nr_albums=[t[1] for t in artists_v_albums]"
   ]
  },
  {
   "cell_type": "code",
   "execution_count": 78,
   "metadata": {},
   "outputs": [],
   "source": [
    "def movingaverage(interval, window_size):\n",
    "    window = np.ones(int(window_size))/float(window_size)\n",
    "    return np.convolve(interval, window, 'same')"
   ]
  },
  {
   "cell_type": "code",
   "execution_count": 89,
   "metadata": {},
   "outputs": [],
   "source": [
    "nr_albums_av = movingaverage(nr_albums, 400)"
   ]
  },
  {
   "cell_type": "code",
   "execution_count": 94,
   "metadata": {},
   "outputs": [
    {
     "data": {
      "image/png": "[encoded data removed]",
      "text/plain": [
       "<matplotlib.figure.Figure at 0x22a856feb00>"
      ]
     },
     "metadata": {},
     "output_type": "display_data"
    }
   ],
   "source": [
    "import matplotlib.pyplot as plt\n",
    "fig=plt.figure()\n",
    "ax = fig.add_subplot(1,1,1)\n",
    "ax.scatter(nr_artists, nr_albums_av)\n",
    "plt.title('Artists vs. Albums per Playlist')\n",
    "plt.xlabel('Number of Artists')\n",
    "plt.ylabel('Number of Albums (Average)')\n",
    "plt.show()"
   ]
  },
  {
   "cell_type": "markdown",
   "metadata": {},
   "source": [
    "## Last Modified Time (Month) vs. Number of Tracks"
   ]
  },
  {
   "cell_type": "code",
   "execution_count": 111,
   "metadata": {},
   "outputs": [],
   "source": [
    "from datetime import datetime"
   ]
  },
  {
   "cell_type": "code",
   "execution_count": 112,
   "metadata": {},
   "outputs": [],
   "source": [
    "time_v_tracks = []\n",
    "for playlistSet in playlistData:\n",
    "    for playlist in playlistSet[\"playlists\"]:\n",
    "        time_v_tracks.append((int(datetime.fromtimestamp(playlist['modified_at']).strftime('%m')), playlist['num_tracks']))"
   ]
  },
  {
   "cell_type": "code",
   "execution_count": null,
   "metadata": {},
   "outputs": [],
   "source": [
    "time_v_tracks.sort(key=lambda tup: tup[0]) # sort by month"
   ]
  },
  {
   "cell_type": "code",
   "execution_count": 115,
   "metadata": {},
   "outputs": [],
   "source": [
    "months = [i for i in range(1, 13)]\n",
    "monthly_avg = []\n",
    "for i in range(1, 13):\n",
    "    total=0\n",
    "    nr=0\n",
    "    for tvt in time_v_tracks:\n",
    "        if tvt[0] == i:\n",
    "            total+=tvt[1]\n",
    "            nr+=1\n",
    "    monthly_avg.append(total/nr) "
   ]
  },
  {
   "cell_type": "code",
   "execution_count": 149,
   "metadata": {},
   "outputs": [
    {
     "data": {
      "image/png": "[encoded data removed]",
      "text/plain": [
       "<matplotlib.figure.Figure at 0x22a8e6d8f98>"
      ]
     },
     "metadata": {},
     "output_type": "display_data"
    }
   ],
   "source": [
    "plt.plot(months, monthly_avg, '-o')\n",
    "plt.title('Final Playlist Edit Date (Month) vs. Number of Tracks in Playlist')\n",
    "plt.xlabel('Month')\n",
    "plt.xticks(np.arange(1, 13, 1.0))\n",
    "plt.ylabel('Number of Tracks')\n",
    "plt.show()"
   ]
  },
  {
   "cell_type": "markdown",
   "metadata": {},
   "source": [
    "## Last Modified Time (Year) vs. Number of Tracks"
   ]
  },
  {
   "cell_type": "code",
   "execution_count": 156,
   "metadata": {
    "collapsed": true
   },
   "outputs": [],
   "source": [
    "time_v_tracks = []\n",
    "for playlistSet in playlistData:\n",
    "    for playlist in playlistSet[\"playlists\"]:\n",
    "        time_v_tracks.append((int(datetime.fromtimestamp(playlist['modified_at']).strftime('%Y')), playlist['num_tracks']))"
   ]
  },
  {
   "cell_type": "code",
   "execution_count": 161,
   "metadata": {},
   "outputs": [
    {
     "data": {
      "text/plain": [
       "{2011, 2012, 2013, 2014, 2015, 2016, 2017}"
      ]
     },
     "execution_count": 161,
     "metadata": {},
     "output_type": "execute_result"
    }
   ],
   "source": [
    "years=[t[0] for t in time_v_tracks]\n",
    "set(years)"
   ]
  },
  {
   "cell_type": "code",
   "execution_count": 163,
   "metadata": {},
   "outputs": [],
   "source": [
    "years = [i for i in range(2011, 2018)]\n",
    "yearly_avg = []\n",
    "for i in range(2011, 2018):\n",
    "    total=0\n",
    "    nr=0\n",
    "    for tvt in time_v_tracks:\n",
    "        if tvt[0] == i:\n",
    "            total+=tvt[1]\n",
    "            nr+=1\n",
    "    yearly_avg.append(total/nr) "
   ]
  },
  {
   "cell_type": "code",
   "execution_count": 164,
   "metadata": {},
   "outputs": [
    {
     "data": {
      "image/png": "[encoded data removed]",
      "text/plain": [
       "<matplotlib.figure.Figure at 0x22c6ee85cf8>"
      ]
     },
     "metadata": {},
     "output_type": "display_data"
    }
   ],
   "source": [
    "plt.plot(years, yearly_avg, '-o')\n",
    "plt.title('Final Playlist Edit Date (Year) vs. Number of Tracks in Playlist')\n",
    "plt.xlabel('Year')\n",
    "plt.xticks(np.arange(2011, 2019, 1.0))\n",
    "plt.ylabel('Number of Tracks')\n",
    "plt.show()"
   ]
  },
  {
   "cell_type": "code",
   "execution_count": null,
   "metadata": {},
   "outputs": [],
   "source": []
  }
 ],
 "metadata": {
  "kernelspec": {
   "display_name": "Python 3",
   "language": "python",
   "name": "python3"
  },
  "language_info": {
   "codemirror_mode": {
    "name": "ipython",
    "version": 3
   },
   "file_extension": ".py",
   "mimetype": "text/x-python",
   "name": "python",
   "nbconvert_exporter": "python",
   "pygments_lexer": "ipython3",
   "version": "3.6.4"
  }
 },
 "nbformat": 4,
 "nbformat_minor": 2
}
