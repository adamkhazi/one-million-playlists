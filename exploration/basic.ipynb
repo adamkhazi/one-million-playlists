{
 "cells": [
  {
   "cell_type": "code",
   "execution_count": 11,
   "metadata": {},
   "outputs": [
    {
     "name": "stdout",
     "output_type": "stream",
     "text": [
      "The autoreload extension is already loaded. To reload it, use:\n",
      "  %reload_ext autoreload\n"
     ]
    }
   ],
   "source": [
    "%load_ext autoreload\n",
    "%autoreload 2\n",
    "%matplotlib inline"
   ]
  },
  {
   "cell_type": "code",
   "execution_count": 120,
   "metadata": {},
   "outputs": [],
   "source": [
    "import sys\n",
    "import os\n",
    "import json\n",
    "import matplotlib.pyplot as plt\n",
    "from pprint import pprint\n",
    "import numpy as np\n",
    "from datetime import datetime\n",
    "import pandas as pd\n",
    "import seaborn as sns\n",
    "\n",
    "sys.path.append(os.path.abspath('../'))\n",
    "from data import Data\n",
    "\n",
    "path_to_data=\"/home/akhazi/Dropbox/University College London/MSc/Dissertation/Datasets/data/\"\n",
    "path_to_data_win=\"C:/Users/Adam Khazi/Dropbox/University College London/MSc/Dissertation/Datasets/data/\""
   ]
  },
  {
   "cell_type": "code",
   "execution_count": 14,
   "metadata": {},
   "outputs": [],
   "source": [
    "with open(path_to_data_win + \"mpd.slice.0-999.json\") as f:\n",
    "    data = json.load(f)"
   ]
  },
  {
   "cell_type": "code",
   "execution_count": 114,
   "metadata": {},
   "outputs": [],
   "source": [
    "d = Data()\n",
    "playlistData = d.load(10)"
   ]
  },
  {
   "cell_type": "code",
   "execution_count": 136,
   "metadata": {},
   "outputs": [
    {
     "data": {
      "text/plain": [
       "list"
      ]
     },
     "execution_count": 136,
     "metadata": {},
     "output_type": "execute_result"
    }
   ],
   "source": [
    "type(playlistData)"
   ]
  },
  {
   "cell_type": "code",
   "execution_count": 140,
   "metadata": {},
   "outputs": [],
   "source": [
    "rowsList = []\n",
    "for playlistSet in playlistData:\n",
    "    for i in range(len(playlistSet[\"playlists\"])):\n",
    "        row = dict()\n",
    "        row['num_artists'] = playlistSet[\"playlists\"][i]['num_artists']\n",
    "        row['num_albums'] = playlistSet[\"playlists\"][i]['num_albums']\n",
    "        row['num_tracks'] = playlistSet[\"playlists\"][i]['num_tracks']\n",
    "        row['num_followers'] = playlistSet[\"playlists\"][i]['num_followers']\n",
    "        row['num_edits'] = playlistSet[\"playlists\"][i]['num_edits']\n",
    "        rowsList.append(row)\n",
    "\n",
    "playlistDataDF = pd.DataFrame(rowsList)"
   ]
  },
  {
   "cell_type": "code",
   "execution_count": 141,
   "metadata": {},
   "outputs": [
    {
     "data": {
      "text/html": [
       "<div>\n",
       "<style scoped>\n",
       "    .dataframe tbody tr th:only-of-type {\n",
       "        vertical-align: middle;\n",
       "    }\n",
       "\n",
       "    .dataframe tbody tr th {\n",
       "        vertical-align: top;\n",
       "    }\n",
       "\n",
       "    .dataframe thead th {\n",
       "        text-align: right;\n",
       "    }\n",
       "</style>\n",
       "<table border=\"1\" class=\"dataframe\">\n",
       "  <thead>\n",
       "    <tr style=\"text-align: right;\">\n",
       "      <th></th>\n",
       "      <th>num_albums</th>\n",
       "      <th>num_artists</th>\n",
       "      <th>num_edits</th>\n",
       "      <th>num_followers</th>\n",
       "      <th>num_tracks</th>\n",
       "    </tr>\n",
       "  </thead>\n",
       "  <tbody>\n",
       "    <tr>\n",
       "      <th>0</th>\n",
       "      <td>47</td>\n",
       "      <td>37</td>\n",
       "      <td>6</td>\n",
       "      <td>1</td>\n",
       "      <td>52</td>\n",
       "    </tr>\n",
       "    <tr>\n",
       "      <th>1</th>\n",
       "      <td>23</td>\n",
       "      <td>21</td>\n",
       "      <td>5</td>\n",
       "      <td>1</td>\n",
       "      <td>39</td>\n",
       "    </tr>\n",
       "    <tr>\n",
       "      <th>2</th>\n",
       "      <td>51</td>\n",
       "      <td>31</td>\n",
       "      <td>18</td>\n",
       "      <td>1</td>\n",
       "      <td>64</td>\n",
       "    </tr>\n",
       "    <tr>\n",
       "      <th>3</th>\n",
       "      <td>107</td>\n",
       "      <td>86</td>\n",
       "      <td>4</td>\n",
       "      <td>1</td>\n",
       "      <td>126</td>\n",
       "    </tr>\n",
       "    <tr>\n",
       "      <th>4</th>\n",
       "      <td>16</td>\n",
       "      <td>16</td>\n",
       "      <td>7</td>\n",
       "      <td>2</td>\n",
       "      <td>17</td>\n",
       "    </tr>\n",
       "  </tbody>\n",
       "</table>\n",
       "</div>"
      ],
      "text/plain": [
       "   num_albums  num_artists  num_edits  num_followers  num_tracks\n",
       "0          47           37          6              1          52\n",
       "1          23           21          5              1          39\n",
       "2          51           31         18              1          64\n",
       "3         107           86          4              1         126\n",
       "4          16           16          7              2          17"
      ]
     },
     "execution_count": 141,
     "metadata": {},
     "output_type": "execute_result"
    }
   ],
   "source": [
    "playlistDataDF.head()"
   ]
  },
  {
   "cell_type": "markdown",
   "metadata": {},
   "source": [
    "## Track Lengths"
   ]
  },
  {
   "cell_type": "code",
   "execution_count": 35,
   "metadata": {},
   "outputs": [],
   "source": [
    "playlist_dist = dict()\n",
    "for playlistSet in playlistData:\n",
    "    for playlist in playlistSet[\"playlists\"]:\n",
    "        if playlist[\"num_tracks\"] not in playlist_dist:\n",
    "            playlist_dist[playlist[\"num_tracks\"]] = 1\n",
    "        else:\n",
    "            playlist_dist[playlist[\"num_tracks\"]]+=1"
   ]
  },
  {
   "cell_type": "code",
   "execution_count": 36,
   "metadata": {},
   "outputs": [],
   "source": [
    "playlist_tuples = list(playlist_dist.items())\n",
    "playlist_tuples.sort(key=lambda tup: tup[0])\n",
    "playlist_nr_tracks=[t[0] for t in playlist_tuples]\n",
    "playlist_nr_nr_tracks=[t[1] for t in playlist_tuples]"
   ]
  },
  {
   "cell_type": "code",
   "execution_count": 181,
   "metadata": {},
   "outputs": [
    {
     "data": {
      "image/png": "[encoded data removed]",
      "text/plain": [
       "<matplotlib.figure.Figure at 0x22c6f81cd30>"
      ]
     },
     "metadata": {},
     "output_type": "display_data"
    }
   ],
   "source": [
    "fig=plt.figure()\n",
    "ax = fig.add_subplot(1,1,1)\n",
    "ax.scatter(playlist_nr_tracks, playlist_nr_nr_tracks)\n",
    "plt.title('Number of Tracks')\n",
    "plt.xlabel('Number of Tracks')\n",
    "plt.ylabel('Number of Playlists')\n",
    "plt.show()"
   ]
  },
  {
   "cell_type": "markdown",
   "metadata": {},
   "source": [
    "## Playlist Edits"
   ]
  },
  {
   "cell_type": "code",
   "execution_count": 38,
   "metadata": {},
   "outputs": [],
   "source": [
    "playlist_dist = dict()\n",
    "for playlistSet in playlistData:\n",
    "    for playlist in playlistSet[\"playlists\"]:\n",
    "        if playlist[\"num_edits\"] not in playlist_dist:\n",
    "            playlist_dist[playlist[\"num_edits\"]] = 1\n",
    "        else:\n",
    "            playlist_dist[playlist[\"num_edits\"]] += 1"
   ]
  },
  {
   "cell_type": "code",
   "execution_count": 39,
   "metadata": {},
   "outputs": [],
   "source": [
    "playlist_tuples = list(playlist_dist.items())\n",
    "playlist_tuples.sort(key=lambda tup: tup[0])\n",
    "playlist_nr_edits=[t[0] for t in playlist_tuples]\n",
    "playlist_nr_nr_edits=[t[1] for t in playlist_tuples]"
   ]
  },
  {
   "cell_type": "code",
   "execution_count": 180,
   "metadata": {},
   "outputs": [
    {
     "data": {
      "image/png": "[encoded data removed]",
      "text/plain": [
       "<matplotlib.figure.Figure at 0x22c6efe9be0>"
      ]
     },
     "metadata": {},
     "output_type": "display_data"
    }
   ],
   "source": [
    "%matplotlib inline\n",
    "import matplotlib.pyplot as plt\n",
    "fig=plt.figure()\n",
    "ax = fig.add_subplot(1,1,1)\n",
    "ax.scatter(playlist_nr_tracks, playlist_nr_nr_tracks)\n",
    "plt.title('Playlist Edits')\n",
    "plt.xlabel('Edits')\n",
    "plt.ylabel('Number of Playlists')\n",
    "plt.show()"
   ]
  },
  {
   "cell_type": "markdown",
   "metadata": {},
   "source": [
    "## Playlist Edits (checking collaboration)"
   ]
  },
  {
   "cell_type": "code",
   "execution_count": 41,
   "metadata": {},
   "outputs": [],
   "source": [
    "playlist_dist_collab_on = dict()\n",
    "for playlistSet in playlistData:\n",
    "    for playlist in playlistSet[\"playlists\"]:\n",
    "        if playlist[\"collaborative\"] == 'true':\n",
    "            if playlist[\"num_edits\"] not in playlist_dist_collab_on:\n",
    "                playlist_dist_collab_on[playlist[\"num_edits\"]] = 1\n",
    "            else:\n",
    "                playlist_dist_collab_on[playlist[\"num_edits\"]] += 1"
   ]
  },
  {
   "cell_type": "code",
   "execution_count": 42,
   "metadata": {},
   "outputs": [],
   "source": [
    "playlist_dist_collab_off = dict()\n",
    "for playlistSet in playlistData:\n",
    "    for playlist in playlistSet[\"playlists\"]:\n",
    "        if playlist[\"collaborative\"] == 'false':\n",
    "            if playlist[\"num_edits\"] not in playlist_dist_collab_off:\n",
    "                playlist_dist_collab_off[playlist[\"num_edits\"]] = 1\n",
    "            else:\n",
    "                playlist_dist_collab_off[playlist[\"num_edits\"]] += 1"
   ]
  },
  {
   "cell_type": "code",
   "execution_count": 43,
   "metadata": {},
   "outputs": [],
   "source": [
    "playlist_tuples = list(playlist_dist_collab_on.items())\n",
    "playlist_tuples.sort(key=lambda tup: tup[0])\n",
    "playlist_nr_edits_on=[t[0] for t in playlist_tuples]\n",
    "playlist_nr_nr_edits_on=[t[1] for t in playlist_tuples]"
   ]
  },
  {
   "cell_type": "code",
   "execution_count": 44,
   "metadata": {},
   "outputs": [],
   "source": [
    "playlist_tuples = list(playlist_dist_collab_off.items())\n",
    "playlist_tuples.sort(key=lambda tup: tup[0])\n",
    "playlist_nr_edits_off=[t[0] for t in playlist_tuples]\n",
    "playlist_nr_nr_edits_off=[t[1] for t in playlist_tuples]"
   ]
  },
  {
   "cell_type": "code",
   "execution_count": 45,
   "metadata": {},
   "outputs": [
    {
     "data": {
      "image/png": "[encoded data removed]",
      "text/plain": [
       "<matplotlib.figure.Figure at 0x22a989a8d68>"
      ]
     },
     "metadata": {},
     "output_type": "display_data"
    }
   ],
   "source": [
    "%matplotlib inline\n",
    "import matplotlib.pyplot as plt\n",
    "fig=plt.figure()\n",
    "ax = fig.add_subplot(1,2,1)\n",
    "ax.bar(playlist_nr_edits_on, height=playlist_nr_nr_edits_on)\n",
    "plt.title('Playlist Edits - with Collaboration')\n",
    "plt.xlabel('Edits')\n",
    "plt.ylabel('Number of Playlists')\n",
    "\n",
    "ax = fig.add_subplot(1,2,2)\n",
    "ax.bar(playlist_nr_edits_off, height=playlist_nr_nr_edits_off)\n",
    "plt.title('Playlist Edits - without Collaboration')\n",
    "plt.xlabel('Edits')\n",
    "plt.ylabel('Number of Playlists')\n",
    "\n",
    "plt.tight_layout()\n",
    "plt.show()"
   ]
  },
  {
   "cell_type": "markdown",
   "metadata": {},
   "source": [
    "## Duration of Playlists"
   ]
  },
  {
   "cell_type": "code",
   "execution_count": 46,
   "metadata": {},
   "outputs": [],
   "source": [
    "playlist_len_ms = []\n",
    "for playlistSet in playlistData:\n",
    "    for playlist in playlistSet[\"playlists\"]:\n",
    "        playlist_len_ms.append(playlist['duration_ms'])"
   ]
  },
  {
   "cell_type": "code",
   "execution_count": 47,
   "metadata": {},
   "outputs": [],
   "source": [
    "playlist_len_ms.sort()"
   ]
  },
  {
   "cell_type": "code",
   "execution_count": 48,
   "metadata": {},
   "outputs": [],
   "source": [
    "playlist_len_ms\n",
    "playlist_len_mins = [(x / 100)/60 for x in playlist_len_ms] # in mins"
   ]
  },
  {
   "cell_type": "code",
   "execution_count": 49,
   "metadata": {},
   "outputs": [
    {
     "data": {
      "text/plain": [
       "[<matplotlib.lines.Line2D at 0x22af0ff6e80>]"
      ]
     },
     "execution_count": 49,
     "metadata": {},
     "output_type": "execute_result"
    },
    {
     "data": {
      "image/png": "[encoded data removed]",
      "text/plain": [
       "<matplotlib.figure.Figure at 0x22a9851d9e8>"
      ]
     },
     "metadata": {},
     "output_type": "display_data"
    }
   ],
   "source": [
    "import numpy as np\n",
    "import scipy.stats as stats\n",
    "import matplotlib.pyplot as plt\n",
    "\n",
    "hmean = np.mean(playlist_len_mins)\n",
    "hstd = np.std(playlist_len_mins)\n",
    "pdf = stats.norm.pdf(playlist_len_mins, hmean, hstd)\n",
    "plt.title('Playlist Duration')\n",
    "plt.xlabel('Length in Minutes')\n",
    "plt.ylabel('Number of Playlists')\n",
    "\n",
    "plt.plot(playlist_len_mins, pdf) # including h here is crucial"
   ]
  },
  {
   "cell_type": "markdown",
   "metadata": {},
   "source": [
    "## Artists"
   ]
  },
  {
   "cell_type": "code",
   "execution_count": 165,
   "metadata": {},
   "outputs": [],
   "source": [
    "nr_artists = []\n",
    "for playlistSet in playlistData:\n",
    "    for playlist in playlistSet[\"playlists\"]:\n",
    "        nr_artists.append(playlist['num_artists'])"
   ]
  },
  {
   "cell_type": "code",
   "execution_count": 166,
   "metadata": {},
   "outputs": [],
   "source": [
    "nr_artists.sort()"
   ]
  },
  {
   "cell_type": "code",
   "execution_count": 169,
   "metadata": {},
   "outputs": [
    {
     "data": {
      "image/png": "[encoded data removed]",
      "text/plain": [
       "<matplotlib.figure.Figure at 0x22c6ef21550>"
      ]
     },
     "metadata": {},
     "output_type": "display_data"
    }
   ],
   "source": [
    "%matplotlib inline\n",
    "import matplotlib.pyplot as plt\n",
    "fig=plt.figure()\n",
    "ax = fig.add_subplot(1,1,1)\n",
    "ax.scatter(playlist_nr_tracks, playlist_nr_nr_tracks, marker='.')\n",
    "plt.title('Number of Artists')\n",
    "plt.xlabel('Number of Artists')\n",
    "plt.ylabel('Number of Playlists')\n",
    "plt.show()"
   ]
  },
  {
   "cell_type": "markdown",
   "metadata": {},
   "source": [
    "## Artists vs. Tracks"
   ]
  },
  {
   "cell_type": "code",
   "execution_count": 171,
   "metadata": {},
   "outputs": [],
   "source": [
    "artists_v_tracks = []\n",
    "for playlistSet in playlistData:\n",
    "    for playlist in playlistSet[\"playlists\"]:\n",
    "        artists_v_tracks.append((playlist['num_artists'], playlist['num_tracks']))"
   ]
  },
  {
   "cell_type": "code",
   "execution_count": 172,
   "metadata": {},
   "outputs": [],
   "source": [
    "artists_v_tracks.sort(key=lambda tup: tup[1]) # sort by nr of tracks per playlist"
   ]
  },
  {
   "cell_type": "code",
   "execution_count": 173,
   "metadata": {},
   "outputs": [],
   "source": [
    "nr_artists=[t[0] for t in artists_v_tracks]\n",
    "nr_tracks=[t[1] for t in artists_v_tracks]"
   ]
  },
  {
   "cell_type": "code",
   "execution_count": 178,
   "metadata": {},
   "outputs": [],
   "source": [
    "nr_artists_avg = movingaverage(nr_artists, 500)"
   ]
  },
  {
   "cell_type": "code",
   "execution_count": 179,
   "metadata": {},
   "outputs": [
    {
     "data": {
      "image/png": "[encoded data removed]",
      "text/plain": [
       "<matplotlib.figure.Figure at 0x22c6f803f98>"
      ]
     },
     "metadata": {},
     "output_type": "display_data"
    }
   ],
   "source": [
    "import matplotlib.pyplot as plt\n",
    "fig=plt.figure()\n",
    "ax = fig.add_subplot(1,1,1)\n",
    "ax.scatter(nr_tracks, nr_artists_avg, marker='.')\n",
    "plt.title('Tracks vs. Artists per Playlist')\n",
    "plt.xlabel('Number of Tracks')\n",
    "plt.ylabel('Number of Artists')\n",
    "plt.show()"
   ]
  },
  {
   "cell_type": "markdown",
   "metadata": {},
   "source": [
    "## Artists vs. Albums"
   ]
  },
  {
   "cell_type": "code",
   "execution_count": 70,
   "metadata": {},
   "outputs": [],
   "source": [
    "artists_v_albums = []\n",
    "for playlistSet in playlistData:\n",
    "    for playlist in playlistSet[\"playlists\"]:\n",
    "        artists_v_albums.append((playlist['num_artists'], playlist['num_albums']))"
   ]
  },
  {
   "cell_type": "code",
   "execution_count": 71,
   "metadata": {},
   "outputs": [],
   "source": [
    "artists_v_albums.sort(key=lambda tup: tup[0]) # sort by nr of artists per playlist"
   ]
  },
  {
   "cell_type": "code",
   "execution_count": 72,
   "metadata": {},
   "outputs": [],
   "source": [
    "nr_artists=[t[0] for t in artists_v_albums]\n",
    "nr_albums=[t[1] for t in artists_v_albums]"
   ]
  },
  {
   "cell_type": "code",
   "execution_count": 14,
   "metadata": {},
   "outputs": [],
   "source": [
    "def movingaverage(interval, window_size):\n",
    "    window = np.ones(int(window_size))/float(window_size)\n",
    "    return np.convolve(interval, window, 'same')"
   ]
  },
  {
   "cell_type": "code",
   "execution_count": 89,
   "metadata": {},
   "outputs": [],
   "source": [
    "nr_albums_av = movingaverage(nr_albums, 400)"
   ]
  },
  {
   "cell_type": "code",
   "execution_count": 94,
   "metadata": {},
   "outputs": [
    {
     "data": {
      "image/png": "[encoded data removed]",
      "text/plain": [
       "<matplotlib.figure.Figure at 0x22a856feb00>"
      ]
     },
     "metadata": {},
     "output_type": "display_data"
    }
   ],
   "source": [
    "import matplotlib.pyplot as plt\n",
    "fig=plt.figure()\n",
    "ax = fig.add_subplot(1,1,1)\n",
    "ax.scatter(nr_artists, nr_albums_av)\n",
    "plt.title('Artists vs. Albums per Playlist')\n",
    "plt.xlabel('Number of Artists')\n",
    "plt.ylabel('Number of Albums (Average)')\n",
    "plt.show()"
   ]
  },
  {
   "cell_type": "markdown",
   "metadata": {},
   "source": [
    "## Last Modified Time (Month) vs. Number of Tracks"
   ]
  },
  {
   "cell_type": "code",
   "execution_count": 112,
   "metadata": {},
   "outputs": [],
   "source": [
    "time_v_tracks = []\n",
    "for playlistSet in playlistData:\n",
    "    for playlist in playlistSet[\"playlists\"]:\n",
    "        time_v_tracks.append((int(datetime.fromtimestamp(playlist['modified_at']).strftime('%m')), playlist['num_tracks']))"
   ]
  },
  {
   "cell_type": "code",
   "execution_count": null,
   "metadata": {},
   "outputs": [],
   "source": [
    "time_v_tracks.sort(key=lambda tup: tup[0]) # sort by month"
   ]
  },
  {
   "cell_type": "code",
   "execution_count": 115,
   "metadata": {},
   "outputs": [],
   "source": [
    "months = [i for i in range(1, 13)]\n",
    "monthly_avg = []\n",
    "for i in range(1, 13):\n",
    "    total=0\n",
    "    nr=0\n",
    "    for tvt in time_v_tracks:\n",
    "        if tvt[0] == i:\n",
    "            total+=tvt[1]\n",
    "            nr+=1\n",
    "    monthly_avg.append(total/nr) "
   ]
  },
  {
   "cell_type": "code",
   "execution_count": 149,
   "metadata": {},
   "outputs": [
    {
     "data": {
      "image/png": "[encoded data removed]",
      "text/plain": [
       "<matplotlib.figure.Figure at 0x22a8e6d8f98>"
      ]
     },
     "metadata": {},
     "output_type": "display_data"
    }
   ],
   "source": [
    "plt.plot(months, monthly_avg, '-o')\n",
    "plt.title('Final Playlist Edit Date (Month) vs. Number of Tracks in Playlist')\n",
    "plt.xlabel('Month')\n",
    "plt.xticks(np.arange(1, 13, 1.0))\n",
    "plt.ylabel('Number of Tracks')\n",
    "plt.show()"
   ]
  },
  {
   "cell_type": "markdown",
   "metadata": {},
   "source": [
    "## Last Modified Time (Year) vs. Number of Tracks"
   ]
  },
  {
   "cell_type": "code",
   "execution_count": 156,
   "metadata": {
    "collapsed": true
   },
   "outputs": [],
   "source": [
    "time_v_tracks = []\n",
    "for playlistSet in playlistData:\n",
    "    for playlist in playlistSet[\"playlists\"]:\n",
    "        time_v_tracks.append((int(datetime.fromtimestamp(playlist['modified_at']).strftime('%Y')), playlist['num_tracks']))"
   ]
  },
  {
   "cell_type": "code",
   "execution_count": 161,
   "metadata": {},
   "outputs": [
    {
     "data": {
      "text/plain": [
       "{2011, 2012, 2013, 2014, 2015, 2016, 2017}"
      ]
     },
     "execution_count": 161,
     "metadata": {},
     "output_type": "execute_result"
    }
   ],
   "source": [
    "years=[t[0] for t in time_v_tracks]\n",
    "set(years)"
   ]
  },
  {
   "cell_type": "code",
   "execution_count": 163,
   "metadata": {},
   "outputs": [],
   "source": [
    "years = [i for i in range(2011, 2018)]\n",
    "yearly_avg = []\n",
    "for i in range(2011, 2018):\n",
    "    total=0\n",
    "    nr=0\n",
    "    for tvt in time_v_tracks:\n",
    "        if tvt[0] == i:\n",
    "            total+=tvt[1]\n",
    "            nr+=1\n",
    "    yearly_avg.append(total/nr) "
   ]
  },
  {
   "cell_type": "code",
   "execution_count": 164,
   "metadata": {},
   "outputs": [
    {
     "data": {
      "image/png": "[encoded data removed]",
      "text/plain": [
       "<matplotlib.figure.Figure at 0x22c6ee85cf8>"
      ]
     },
     "metadata": {},
     "output_type": "display_data"
    }
   ],
   "source": [
    "plt.plot(years, yearly_avg, '-o')\n",
    "plt.title('Final Playlist Edit Date (Year) vs. Number of Tracks in Playlist')\n",
    "plt.xlabel('Year')\n",
    "plt.xticks(np.arange(2011, 2019, 1.0))\n",
    "plt.ylabel('Number of Tracks')\n",
    "plt.show()"
   ]
  },
  {
   "cell_type": "markdown",
   "metadata": {},
   "source": [
    "## Followers vs. Number of Tracks"
   ]
  },
  {
   "cell_type": "code",
   "execution_count": 37,
   "metadata": {},
   "outputs": [],
   "source": [
    "followers_v_nr_tracks = []\n",
    "for playlistSet in playlistData:\n",
    "    for playlist in playlistSet[\"playlists\"]:\n",
    "        followers_v_nr_tracks.append((playlist['num_tracks'], playlist['num_followers']))"
   ]
  },
  {
   "cell_type": "code",
   "execution_count": 38,
   "metadata": {},
   "outputs": [],
   "source": [
    "followers_v_nr_tracks.sort(key=lambda tup: tup[0]) # sort by nr tracks"
   ]
  },
  {
   "cell_type": "code",
   "execution_count": 39,
   "metadata": {},
   "outputs": [],
   "source": [
    "nr_tracks=[t[0] for t in followers_v_nr_tracks]\n",
    "nr_followers=[t[1] for t in followers_v_nr_tracks]"
   ]
  },
  {
   "cell_type": "code",
   "execution_count": 48,
   "metadata": {},
   "outputs": [],
   "source": [
    "from math import log\n",
    "nr_followers_av = movingaverage(nr_followers, 3000)"
   ]
  },
  {
   "cell_type": "code",
   "execution_count": 85,
   "metadata": {},
   "outputs": [
    {
     "data": {
      "image/png": "[encoded data removed]",
      "text/plain": [
       "<matplotlib.figure.Figure at 0x2b684a79208>"
      ]
     },
     "metadata": {},
     "output_type": "display_data"
    }
   ],
   "source": [
    "plt.plot(nr_tracks, nr_followers_av)\n",
    "plt.title('Number of Tracks vs. Number of Followers')\n",
    "plt.xlabel('Tracks')\n",
    "plt.ylabel('Followers')\n",
    "plt.show()"
   ]
  },
  {
   "cell_type": "markdown",
   "metadata": {},
   "source": [
    "## Followers vs. Time (Month and Year)"
   ]
  },
  {
   "cell_type": "code",
   "execution_count": 53,
   "metadata": {},
   "outputs": [],
   "source": [
    "followers_v_month = []\n",
    "for playlistSet in playlistData:\n",
    "    for playlist in playlistSet[\"playlists\"]:\n",
    "        followers_v_month.append((int(datetime.fromtimestamp(playlist['modified_at']).strftime('%m')), playlist['num_followers']))"
   ]
  },
  {
   "cell_type": "code",
   "execution_count": 55,
   "metadata": {},
   "outputs": [],
   "source": [
    "followers_v_year = []\n",
    "for playlistSet in playlistData:\n",
    "    for playlist in playlistSet[\"playlists\"]:\n",
    "        followers_v_year.append((int(datetime.fromtimestamp(playlist['modified_at']).strftime('%Y')), playlist['num_followers']))"
   ]
  },
  {
   "cell_type": "code",
   "execution_count": 56,
   "metadata": {},
   "outputs": [],
   "source": [
    "months = [i for i in range(1, 13)]\n",
    "monthly_avg = []\n",
    "for i in range(1, 13):\n",
    "    total=0\n",
    "    nr=0\n",
    "    for tvt in followers_v_month:\n",
    "        if tvt[0] == i:\n",
    "            total+=tvt[1]\n",
    "            nr+=1\n",
    "    monthly_avg.append(total/nr) "
   ]
  },
  {
   "cell_type": "code",
   "execution_count": 57,
   "metadata": {},
   "outputs": [],
   "source": [
    "years = [i for i in range(2011, 2018)]\n",
    "yearly_avg = []\n",
    "for i in range(2011, 2018):\n",
    "    total=0\n",
    "    nr=0\n",
    "    for tvt in followers_v_year:\n",
    "        if tvt[0] == i:\n",
    "            total+=tvt[1]\n",
    "            nr+=1\n",
    "    yearly_avg.append(total/nr) "
   ]
  },
  {
   "cell_type": "code",
   "execution_count": 58,
   "metadata": {},
   "outputs": [
    {
     "data": {
      "image/png": "[encoded data removed]",
      "text/plain": [
       "<matplotlib.figure.Figure at 0x2b6a58ae128>"
      ]
     },
     "metadata": {},
     "output_type": "display_data"
    }
   ],
   "source": [
    "plt.plot(years, yearly_avg, '-o')\n",
    "plt.title('Followers vs. Year')\n",
    "plt.xlabel('Year')\n",
    "plt.xticks(np.arange(2011, 2019, 1.0))\n",
    "plt.ylabel('Average Followers')\n",
    "plt.show()"
   ]
  },
  {
   "cell_type": "code",
   "execution_count": 63,
   "metadata": {},
   "outputs": [
    {
     "data": {
      "image/png": "[encoded data removed]",
      "text/plain": [
       "<matplotlib.figure.Figure at 0x2b681a835c0>"
      ]
     },
     "metadata": {},
     "output_type": "display_data"
    }
   ],
   "source": [
    "plt.plot(months, monthly_avg, '-o')\n",
    "plt.title('Followers vs. Month')\n",
    "plt.xlabel('Month')\n",
    "plt.xticks(np.arange(1, 13, 1.0))\n",
    "plt.ylabel('Average Followers')\n",
    "plt.show()"
   ]
  },
  {
   "cell_type": "markdown",
   "metadata": {},
   "source": [
    "## Followers vs. Number of Edits"
   ]
  },
  {
   "cell_type": "code",
   "execution_count": 65,
   "metadata": {},
   "outputs": [],
   "source": [
    "followers_v_edits = []\n",
    "for playlistSet in playlistData:\n",
    "    for playlist in playlistSet[\"playlists\"]:\n",
    "        followers_v_edits.append((playlist['num_edits'], playlist['num_followers']))"
   ]
  },
  {
   "cell_type": "code",
   "execution_count": 67,
   "metadata": {},
   "outputs": [],
   "source": [
    "followers_v_edits.sort(key=lambda tup: tup[0]) # sort by edits"
   ]
  },
  {
   "cell_type": "code",
   "execution_count": 68,
   "metadata": {},
   "outputs": [],
   "source": [
    "nr_edits=[t[0] for t in followers_v_edits]\n",
    "nr_followers=[t[1] for t in followers_v_edits]"
   ]
  },
  {
   "cell_type": "code",
   "execution_count": 76,
   "metadata": {},
   "outputs": [],
   "source": [
    "nr_followers_av = movingaverage(nr_followers, 4000)"
   ]
  },
  {
   "cell_type": "code",
   "execution_count": 81,
   "metadata": {},
   "outputs": [
    {
     "data": {
      "image/png": "[encoded data removed]",
      "text/plain": [
       "<matplotlib.figure.Figure at 0x2b68312ccf8>"
      ]
     },
     "metadata": {},
     "output_type": "display_data"
    }
   ],
   "source": [
    "plt.plot(nr_edits, nr_followers_av)\n",
    "plt.title('Edits vs. Followers')\n",
    "plt.xlabel('Edits')\n",
    "plt.ylabel('Followers')\n",
    "plt.show()"
   ]
  },
  {
   "cell_type": "markdown",
   "metadata": {},
   "source": [
    "## Followers vs. Number of Artists"
   ]
  },
  {
   "cell_type": "code",
   "execution_count": 101,
   "metadata": {},
   "outputs": [],
   "source": [
    "followers_v_artists = []\n",
    "for playlistSet in playlistData:\n",
    "    for playlist in playlistSet[\"playlists\"]:\n",
    "        followers_v_artists.append((playlist['num_artists'], playlist['num_followers']))"
   ]
  },
  {
   "cell_type": "code",
   "execution_count": 102,
   "metadata": {},
   "outputs": [],
   "source": [
    "followers_v_artists.sort(key=lambda tup: tup[0]) # sort by nr artists"
   ]
  },
  {
   "cell_type": "code",
   "execution_count": 103,
   "metadata": {},
   "outputs": [],
   "source": [
    "nr_artists=[t[0] for t in followers_v_artists]\n",
    "nr_followers=[t[1] for t in followers_v_artists]"
   ]
  },
  {
   "cell_type": "code",
   "execution_count": 104,
   "metadata": {},
   "outputs": [],
   "source": [
    "nr_followers_av = movingaverage(nr_followers, 5000)"
   ]
  },
  {
   "cell_type": "code",
   "execution_count": 105,
   "metadata": {},
   "outputs": [
    {
     "data": {
      "image/png": "[encoded data removed]",
      "text/plain": [
       "<matplotlib.figure.Figure at 0x2b856c610f0>"
      ]
     },
     "metadata": {},
     "output_type": "display_data"
    }
   ],
   "source": [
    "plt.plot(nr_artists, nr_followers_av)\n",
    "plt.title('Artists vs. Followers')\n",
    "plt.xlabel('Artists')\n",
    "plt.ylabel('Followers')\n",
    "plt.xticks(np.arange(0, 250, 50))\n",
    "plt.show()"
   ]
  },
  {
   "cell_type": "markdown",
   "metadata": {},
   "source": [
    "## Correlation Matrix"
   ]
  },
  {
   "cell_type": "code",
   "execution_count": 142,
   "metadata": {},
   "outputs": [
    {
     "data": {
      "text/html": [
       "<div>\n",
       "<style scoped>\n",
       "    .dataframe tbody tr th:only-of-type {\n",
       "        vertical-align: middle;\n",
       "    }\n",
       "\n",
       "    .dataframe tbody tr th {\n",
       "        vertical-align: top;\n",
       "    }\n",
       "\n",
       "    .dataframe thead th {\n",
       "        text-align: right;\n",
       "    }\n",
       "</style>\n",
       "<table border=\"1\" class=\"dataframe\">\n",
       "  <thead>\n",
       "    <tr style=\"text-align: right;\">\n",
       "      <th></th>\n",
       "      <th>num_albums</th>\n",
       "      <th>num_artists</th>\n",
       "      <th>num_edits</th>\n",
       "      <th>num_followers</th>\n",
       "      <th>num_tracks</th>\n",
       "    </tr>\n",
       "  </thead>\n",
       "  <tbody>\n",
       "    <tr>\n",
       "      <th>num_albums</th>\n",
       "      <td>1.000000</td>\n",
       "      <td>0.955091</td>\n",
       "      <td>0.678607</td>\n",
       "      <td>-0.004305</td>\n",
       "      <td>0.904298</td>\n",
       "    </tr>\n",
       "    <tr>\n",
       "      <th>num_artists</th>\n",
       "      <td>0.955091</td>\n",
       "      <td>1.000000</td>\n",
       "      <td>0.666449</td>\n",
       "      <td>-0.003182</td>\n",
       "      <td>0.823649</td>\n",
       "    </tr>\n",
       "    <tr>\n",
       "      <th>num_edits</th>\n",
       "      <td>0.678607</td>\n",
       "      <td>0.666449</td>\n",
       "      <td>1.000000</td>\n",
       "      <td>-0.002572</td>\n",
       "      <td>0.617200</td>\n",
       "    </tr>\n",
       "    <tr>\n",
       "      <th>num_followers</th>\n",
       "      <td>-0.004305</td>\n",
       "      <td>-0.003182</td>\n",
       "      <td>-0.002572</td>\n",
       "      <td>1.000000</td>\n",
       "      <td>-0.004579</td>\n",
       "    </tr>\n",
       "    <tr>\n",
       "      <th>num_tracks</th>\n",
       "      <td>0.904298</td>\n",
       "      <td>0.823649</td>\n",
       "      <td>0.617200</td>\n",
       "      <td>-0.004579</td>\n",
       "      <td>1.000000</td>\n",
       "    </tr>\n",
       "  </tbody>\n",
       "</table>\n",
       "</div>"
      ],
      "text/plain": [
       "               num_albums  num_artists  num_edits  num_followers  num_tracks\n",
       "num_albums       1.000000     0.955091   0.678607      -0.004305    0.904298\n",
       "num_artists      0.955091     1.000000   0.666449      -0.003182    0.823649\n",
       "num_edits        0.678607     0.666449   1.000000      -0.002572    0.617200\n",
       "num_followers   -0.004305    -0.003182  -0.002572       1.000000   -0.004579\n",
       "num_tracks       0.904298     0.823649   0.617200      -0.004579    1.000000"
      ]
     },
     "execution_count": 142,
     "metadata": {},
     "output_type": "execute_result"
    }
   ],
   "source": [
    "#correlation matrix\n",
    "corrmat = playlistDataDF.corr()\n",
    "corrmat"
   ]
  },
  {
   "cell_type": "code",
   "execution_count": 132,
   "metadata": {},
   "outputs": [
    {
     "data": {
      "text/plain": [
       "count    1000.0\n",
       "mean       13.0\n",
       "std         0.0\n",
       "min        13.0\n",
       "25%        13.0\n",
       "50%        13.0\n",
       "75%        13.0\n",
       "max        13.0\n",
       "Name: num_albums, dtype: float64"
      ]
     },
     "execution_count": 132,
     "metadata": {},
     "output_type": "execute_result"
    }
   ],
   "source": [
    "playlistDataDF[\"num_albums\"].describe()"
   ]
  },
  {
   "cell_type": "code",
   "execution_count": null,
   "metadata": {},
   "outputs": [],
   "source": []
  },
  {
   "cell_type": "code",
   "execution_count": null,
   "metadata": {},
   "outputs": [],
   "source": []
  }
 ],
 "metadata": {
  "kernelspec": {
   "display_name": "Python 3",
   "language": "python",
   "name": "python3"
  },
  "language_info": {
   "codemirror_mode": {
    "name": "ipython",
    "version": 3
   },
   "file_extension": ".py",
   "mimetype": "text/x-python",
   "name": "python",
   "nbconvert_exporter": "python",
   "pygments_lexer": "ipython3",
   "version": "3.6.4"
  }
 },
 "nbformat": 4,
 "nbformat_minor": 2
}
