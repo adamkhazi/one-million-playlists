{
 "cells": [
  {
   "cell_type": "code",
   "execution_count": 13,
   "metadata": {},
   "outputs": [],
   "source": [
    "import json\n",
    "from pprint import pprint\n",
    "path_to_data=\"/home/akhazi/Dropbox/University College London/MSc/Dissertation/Datasets/data/\"\n",
    "path_to_data_win=\"C:/Users/Adam Khazi/Dropbox/University College London/MSc/Dissertation/Datasets/data/\""
   ]
  },
  {
   "cell_type": "code",
   "execution_count": 15,
   "metadata": {},
   "outputs": [],
   "source": [
    "with open(path_to_data_win + \"mpd.slice.0-999.json\") as f:\n",
    "    data = json.load(f)"
   ]
  },
  {
   "cell_type": "code",
   "execution_count": null,
   "metadata": {},
   "outputs": [],
   "source": [
    "type(data)"
   ]
  },
  {
   "cell_type": "code",
   "execution_count": null,
   "metadata": {
    "collapsed": true
   },
   "outputs": [],
   "source": [
    "data[\"playlists\"][0]"
   ]
  },
  {
   "cell_type": "markdown",
   "metadata": {},
   "source": [
    "## Track Lengths"
   ]
  },
  {
   "cell_type": "code",
   "execution_count": 23,
   "metadata": {},
   "outputs": [],
   "source": [
    "playlist_dist = dict()\n",
    "for playlist in data[\"playlists\"]:\n",
    "    if playlist[\"num_tracks\"] not in playlist_dist:\n",
    "        playlist_dist[playlist[\"num_tracks\"]] = 1\n",
    "    else:\n",
    "        playlist_dist[playlist[\"num_tracks\"]]+=1"
   ]
  },
  {
   "cell_type": "code",
   "execution_count": 31,
   "metadata": {},
   "outputs": [],
   "source": [
    "playlist_tuples = list(playlist_dist.items())\n",
    "playlist_tuples.sort(key=lambda tup: tup[0])\n",
    "playlist_nr_tracks=[t[0] for t in playlist_tuples]\n",
    "playlist_nr_nr_tracks=[t[1] for t in playlist_tuples]"
   ]
  },
  {
   "cell_type": "code",
   "execution_count": 34,
   "metadata": {},
   "outputs": [
    {
     "data": {
      "image/png": "[encoded data removed]",
      "text/plain": [
       "<matplotlib.figure.Figure at 0x21b70189d68>"
      ]
     },
     "metadata": {},
     "output_type": "display_data"
    }
   ],
   "source": [
    "%matplotlib inline\n",
    "import matplotlib.pyplot as plt\n",
    "fig=plt.figure()\n",
    "ax = fig.add_subplot(1,1,1)\n",
    "ax.bar(playlist_nr_tracks, height=playlist_nr_nr_tracks)\n",
    "plt.title('Track Lengths')\n",
    "plt.xlabel('Track Length')\n",
    "plt.ylabel('Number of Playlists')\n",
    "plt.show()"
   ]
  },
  {
   "cell_type": "code",
   "execution_count": null,
   "metadata": {},
   "outputs": [],
   "source": [
    "## "
   ]
  }
 ],
 "metadata": {
  "kernelspec": {
   "display_name": "Python 3",
   "language": "python",
   "name": "python3"
  },
  "language_info": {
   "codemirror_mode": {
    "name": "ipython",
    "version": 3
   },
   "file_extension": ".py",
   "mimetype": "text/x-python",
   "name": "python",
   "nbconvert_exporter": "python",
   "pygments_lexer": "ipython3",
   "version": "3.6.4"
  }
 },
 "nbformat": 4,
 "nbformat_minor": 2
}
