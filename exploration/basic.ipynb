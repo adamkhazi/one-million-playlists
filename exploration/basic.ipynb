{
 "cells": [
  {
   "cell_type": "code",
   "execution_count": 1,
   "metadata": {},
   "outputs": [],
   "source": [
    "%load_ext autoreload\n",
    "%autoreload 2"
   ]
  },
  {
   "cell_type": "code",
   "execution_count": 13,
   "metadata": {},
   "outputs": [],
   "source": [
    "import sys\n",
    "import os\n",
    "import json\n",
    "from pprint import pprint\n",
    "\n",
    "sys.path.append(os.path.abspath('../'))\n",
    "from data import Data\n",
    "\n",
    "path_to_data=\"/home/akhazi/Dropbox/University College London/MSc/Dissertation/Datasets/data/\"\n",
    "path_to_data_win=\"C:/Users/Adam Khazi/Dropbox/University College London/MSc/Dissertation/Datasets/data/\""
   ]
  },
  {
   "cell_type": "code",
   "execution_count": 14,
   "metadata": {},
   "outputs": [],
   "source": [
    "with open(path_to_data_win + \"mpd.slice.0-999.json\") as f:\n",
    "    data = json.load(f)"
   ]
  },
  {
   "cell_type": "code",
   "execution_count": 16,
   "metadata": {},
   "outputs": [],
   "source": [
    "d = Data()\n",
    "playlistData = d.load(3)"
   ]
  },
  {
   "cell_type": "code",
   "execution_count": 17,
   "metadata": {},
   "outputs": [
    {
     "data": {
      "text/plain": [
       "list"
      ]
     },
     "execution_count": 17,
     "metadata": {},
     "output_type": "execute_result"
    }
   ],
   "source": [
    "type(playlistData)"
   ]
  },
  {
   "cell_type": "code",
   "execution_count": 28,
   "metadata": {},
   "outputs": [
    {
     "data": {
      "text/plain": [
       "{'generated_on': '2017-12-03 08:41:42.057563',\n",
       " 'slice': '0-999',\n",
       " 'version': 'v1'}"
      ]
     },
     "execution_count": 28,
     "metadata": {},
     "output_type": "execute_result"
    }
   ],
   "source": [
    "data['info']"
   ]
  },
  {
   "cell_type": "markdown",
   "metadata": {},
   "source": [
    "## Track Lengths"
   ]
  },
  {
   "cell_type": "code",
   "execution_count": 18,
   "metadata": {},
   "outputs": [],
   "source": [
    "playlist_dist = dict()\n",
    "for playlistSet in playlistData:\n",
    "    for playlist in playlistSet[\"playlists\"]:\n",
    "        if playlist[\"num_tracks\"] not in playlist_dist:\n",
    "            playlist_dist[playlist[\"num_tracks\"]] = 1\n",
    "        else:\n",
    "            playlist_dist[playlist[\"num_tracks\"]]+=1"
   ]
  },
  {
   "cell_type": "code",
   "execution_count": 19,
   "metadata": {},
   "outputs": [],
   "source": [
    "playlist_tuples = list(playlist_dist.items())\n",
    "playlist_tuples.sort(key=lambda tup: tup[0])\n",
    "playlist_nr_tracks=[t[0] for t in playlist_tuples]\n",
    "playlist_nr_nr_tracks=[t[1] for t in playlist_tuples]"
   ]
  },
  {
   "cell_type": "code",
   "execution_count": 20,
   "metadata": {},
   "outputs": [
    {
     "data": {
      "image/png": "[encoded data removed]",
      "text/plain": [
       "<matplotlib.figure.Figure at 0x22ae5921c88>"
      ]
     },
     "metadata": {},
     "output_type": "display_data"
    }
   ],
   "source": [
    "%matplotlib inline\n",
    "import matplotlib.pyplot as plt\n",
    "fig=plt.figure()\n",
    "ax = fig.add_subplot(1,1,1)\n",
    "ax.bar(playlist_nr_tracks, height=playlist_nr_nr_tracks)\n",
    "plt.title('Track Lengths')\n",
    "plt.xlabel('Track Length')\n",
    "plt.ylabel('Number of Playlists')\n",
    "plt.show()"
   ]
  },
  {
   "cell_type": "markdown",
   "metadata": {},
   "source": [
    "## Playlist Edits"
   ]
  },
  {
   "cell_type": "code",
   "execution_count": 21,
   "metadata": {},
   "outputs": [],
   "source": [
    "playlist_dist = dict()\n",
    "for playlistSet in playlistData:\n",
    "    for playlist in playlistSet[\"playlists\"]:\n",
    "        if playlist[\"num_edits\"] not in playlist_dist:\n",
    "            playlist_dist[playlist[\"num_edits\"]] = 1\n",
    "        else:\n",
    "            playlist_dist[playlist[\"num_edits\"]] += 1"
   ]
  },
  {
   "cell_type": "code",
   "execution_count": 22,
   "metadata": {},
   "outputs": [],
   "source": [
    "playlist_tuples = list(playlist_dist.items())\n",
    "playlist_tuples.sort(key=lambda tup: tup[0])\n",
    "playlist_nr_edits=[t[0] for t in playlist_tuples]\n",
    "playlist_nr_nr_edits=[t[1] for t in playlist_tuples]"
   ]
  },
  {
   "cell_type": "code",
   "execution_count": 23,
   "metadata": {},
   "outputs": [
    {
     "data": {
      "image/png": "[encoded data removed]",
      "text/plain": [
       "<matplotlib.figure.Figure at 0x22ae6191748>"
      ]
     },
     "metadata": {},
     "output_type": "display_data"
    }
   ],
   "source": [
    "%matplotlib inline\n",
    "import matplotlib.pyplot as plt\n",
    "fig=plt.figure()\n",
    "ax = fig.add_subplot(1,1,1)\n",
    "ax.bar(playlist_nr_tracks, height=playlist_nr_nr_tracks)\n",
    "plt.title('Playlist Edits')\n",
    "plt.xlabel('Edits')\n",
    "plt.ylabel('Number of Playlists')\n",
    "plt.show()"
   ]
  },
  {
   "cell_type": "markdown",
   "metadata": {},
   "source": [
    "## Playlist Edits (checking collaboration)"
   ]
  },
  {
   "cell_type": "code",
   "execution_count": 24,
   "metadata": {},
   "outputs": [],
   "source": [
    "playlist_dist_collab_on = dict()\n",
    "for playlistSet in playlistData:\n",
    "    for playlist in playlistSet[\"playlists\"]:\n",
    "        if playlist[\"collaborative\"] == 'true':\n",
    "            if playlist[\"num_edits\"] not in playlist_dist_collab_on:\n",
    "                playlist_dist_collab_on[playlist[\"num_edits\"]] = 1\n",
    "            else:\n",
    "                playlist_dist_collab_on[playlist[\"num_edits\"]] += 1"
   ]
  },
  {
   "cell_type": "code",
   "execution_count": 25,
   "metadata": {},
   "outputs": [],
   "source": [
    "playlist_dist_collab_off = dict()\n",
    "for playlistSet in playlistData:\n",
    "    for playlist in playlistSet[\"playlists\"]:\n",
    "        if playlist[\"collaborative\"] == 'false':\n",
    "            if playlist[\"num_edits\"] not in playlist_dist_collab_off:\n",
    "                playlist_dist_collab_off[playlist[\"num_edits\"]] = 1\n",
    "            else:\n",
    "                playlist_dist_collab_off[playlist[\"num_edits\"]] += 1"
   ]
  },
  {
   "cell_type": "code",
   "execution_count": 26,
   "metadata": {},
   "outputs": [],
   "source": [
    "playlist_tuples = list(playlist_dist_collab_on.items())\n",
    "playlist_tuples.sort(key=lambda tup: tup[0])\n",
    "playlist_nr_edits_on=[t[0] for t in playlist_tuples]\n",
    "playlist_nr_nr_edits_on=[t[1] for t in playlist_tuples]"
   ]
  },
  {
   "cell_type": "code",
   "execution_count": 27,
   "metadata": {},
   "outputs": [],
   "source": [
    "playlist_tuples = list(playlist_dist_collab_off.items())\n",
    "playlist_tuples.sort(key=lambda tup: tup[0])\n",
    "playlist_nr_edits_off=[t[0] for t in playlist_tuples]\n",
    "playlist_nr_nr_edits_off=[t[1] for t in playlist_tuples]"
   ]
  },
  {
   "cell_type": "code",
   "execution_count": 28,
   "metadata": {},
   "outputs": [
    {
     "data": {
      "image/png": "[encoded data removed]",
      "text/plain": [
       "<matplotlib.figure.Figure at 0x22ae1925400>"
      ]
     },
     "metadata": {},
     "output_type": "display_data"
    }
   ],
   "source": [
    "%matplotlib inline\n",
    "import matplotlib.pyplot as plt\n",
    "fig=plt.figure()\n",
    "ax = fig.add_subplot(1,2,1)\n",
    "ax.bar(playlist_nr_edits_on, height=playlist_nr_nr_edits_on)\n",
    "plt.title('Playlist Edits - with Collaboration')\n",
    "plt.xlabel('Edits')\n",
    "plt.ylabel('Number of Playlists')\n",
    "\n",
    "ax = fig.add_subplot(1,2,2)\n",
    "ax.bar(playlist_nr_edits_off, height=playlist_nr_nr_edits_off)\n",
    "plt.title('Playlist Edits - without Collaboration')\n",
    "plt.xlabel('Edits')\n",
    "plt.ylabel('Number of Playlists')\n",
    "\n",
    "plt.tight_layout()\n",
    "plt.show()"
   ]
  },
  {
   "cell_type": "markdown",
   "metadata": {},
   "source": [
    "## Duration of Playlists"
   ]
  },
  {
   "cell_type": "code",
   "execution_count": 29,
   "metadata": {},
   "outputs": [],
   "source": [
    "playlist_len_ms = []\n",
    "for playlistSet in playlistData:\n",
    "    for playlist in playlistSet[\"playlists\"]:\n",
    "        playlist_len_ms.append(playlist['duration_ms'])"
   ]
  },
  {
   "cell_type": "code",
   "execution_count": 30,
   "metadata": {},
   "outputs": [],
   "source": [
    "playlist_len_ms.sort()"
   ]
  },
  {
   "cell_type": "code",
   "execution_count": 31,
   "metadata": {},
   "outputs": [],
   "source": [
    "playlist_len_ms\n",
    "playlist_len_mins = [(x / 100)/60 for x in playlist_len_ms] # in mins"
   ]
  },
  {
   "cell_type": "code",
   "execution_count": 32,
   "metadata": {},
   "outputs": [
    {
     "data": {
      "text/plain": [
       "[<matplotlib.lines.Line2D at 0x22ae198b710>]"
      ]
     },
     "execution_count": 32,
     "metadata": {},
     "output_type": "execute_result"
    },
    {
     "data": {
      "image/png": "[encoded data removed]",
      "text/plain": [
       "<matplotlib.figure.Figure at 0x22ae1c36d68>"
      ]
     },
     "metadata": {},
     "output_type": "display_data"
    }
   ],
   "source": [
    "import numpy as np\n",
    "import scipy.stats as stats\n",
    "import matplotlib.pyplot as plt\n",
    "\n",
    "hmean = np.mean(playlist_len_mins)\n",
    "hstd = np.std(playlist_len_mins)\n",
    "pdf = stats.norm.pdf(playlist_len_mins, hmean, hstd)\n",
    "plt.title('Playlist Duration')\n",
    "plt.xlabel('Length in Minutes')\n",
    "plt.ylabel('Number of Playlists')\n",
    "\n",
    "plt.plot(playlist_len_mins, pdf) # including h here is crucial"
   ]
  },
  {
   "cell_type": "code",
   "execution_count": null,
   "metadata": {},
   "outputs": [],
   "source": []
  }
 ],
 "metadata": {
  "kernelspec": {
   "display_name": "Python 3",
   "language": "python",
   "name": "python3"
  },
  "language_info": {
   "codemirror_mode": {
    "name": "ipython",
    "version": 3
   },
   "file_extension": ".py",
   "mimetype": "text/x-python",
   "name": "python",
   "nbconvert_exporter": "python",
   "pygments_lexer": "ipython3",
   "version": "3.6.4"
  }
 },
 "nbformat": 4,
 "nbformat_minor": 2
}
